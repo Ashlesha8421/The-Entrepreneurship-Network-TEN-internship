{
 "cells": [
  {
   "cell_type": "code",
   "execution_count": 66,
   "metadata": {},
   "outputs": [],
   "source": [
    "import warnings\n",
    "warnings.filterwarnings('ignore')\n",
    "import pandas as pd\n",
    "import numpy as np\n",
    "import matplotlib.pyplot as plt\n",
    "%matplotlib inline"
   ]
  },
  {
   "cell_type": "code",
   "execution_count": 67,
   "metadata": {},
   "outputs": [
    {
     "name": "stdout",
     "output_type": "stream",
     "text": [
      " Volume in drive C is Windows\n",
      " Volume Serial Number is DC25-EA40\n",
      "\n",
      " Directory of C:\\Users\\91830\\FaceRecognition\\Module-2\n",
      "\n",
      "27-11-2021  10:47    <DIR>          .\n",
      "27-11-2021  10:47    <DIR>          ..\n",
      "27-11-2021  09:27    <DIR>          .ipynb_checkpoints\n",
      "27-11-2021  00:13           129,401 f_01.png\n",
      "25-11-2021  14:41         1,131,619 Module-2- 01-Image Croping.ipynb\n",
      "27-11-2021  09:24           635,861 Module-2- Eigen Images.ipynb\n",
      "27-11-2021  00:21         1,249,825 Module-2- image Croping.ipynb\n",
      "27-11-2021  00:45           390,105 Module-2- Structuring data.ipynb\n",
      "27-11-2021  08:55            14,144 Module-2-Data Preprocessing.ipynb\n",
      "27-11-2021  10:47            80,487 Module-2-Training ML Model.ipynb\n",
      "               7 File(s)      3,631,442 bytes\n",
      "               3 Dir(s)  829,872,447,488 bytes free\n"
     ]
    }
   ],
   "source": [
    "ls  "
   ]
  },
  {
   "cell_type": "code",
   "execution_count": 68,
   "metadata": {},
   "outputs": [
    {
     "data": {
      "text/plain": [
       "['arr_0', 'arr_1', 'arr_2']"
      ]
     },
     "execution_count": 68,
     "metadata": {},
     "output_type": "execute_result"
    }
   ],
   "source": [
    "data=np.load('/Users/91830/FaceRecognition/data/data_pca_50_y_mean.pickle.npz')\n",
    "data.files    "
   ]
  },
  {
   "cell_type": "code",
   "execution_count": 69,
   "metadata": {},
   "outputs": [],
   "source": [
    "X = data['arr_0'] # arr_0 is x_pca \n",
    "y= data['arr_1']  #  arr_1 is Traget variable\n",
    "mean = data['arr_2'] # arr_2 is mean"
   ]
  },
  {
   "cell_type": "code",
   "execution_count": 70,
   "metadata": {},
   "outputs": [
    {
     "data": {
      "text/plain": [
       "((4369, 50), (1093, 50), (4369,), (1093,))"
      ]
     },
     "execution_count": 70,
     "metadata": {},
     "output_type": "execute_result"
    }
   ],
   "source": [
    "from sklearn.model_selection import train_test_split\n",
    "x_train,x_test,y_train,y_test = train_test_split(X,y,test_size=0.2,stratify=y)\n",
    "x_train.shape,x_test.shape,y_train.shape,y_test.shape"
   ]
  },
  {
   "cell_type": "markdown",
   "metadata": {},
   "source": [
    "## Training a Machine leaning model"
   ]
  },
  {
   "cell_type": "code",
   "execution_count": 71,
   "metadata": {},
   "outputs": [],
   "source": [
    "# Support vector classifier is also known as maximum margine classifier\n",
    "from sklearn.svm import SVC"
   ]
  },
  {
   "cell_type": "markdown",
   "metadata": {},
   "source": [
    "- SVM does not consist of term probability there no any term which involve Probability because it works completely based on maximum marginal classifier.\n"
   ]
  },
  {
   "cell_type": "code",
   "execution_count": 72,
   "metadata": {},
   "outputs": [],
   "source": [
    "model = SVC(C=1.0,kernel='rbf',gamma=0.01,probability=True,)"
   ]
  },
  {
   "cell_type": "code",
   "execution_count": 73,
   "metadata": {},
   "outputs": [
    {
     "name": "stdout",
     "output_type": "stream",
     "text": [
      "model trained sucessfully\n"
     ]
    }
   ],
   "source": [
    "model.fit(x_train,y_train)\n",
    "print('model trained sucessfully')"
   ]
  },
  {
   "cell_type": "code",
   "execution_count": 74,
   "metadata": {},
   "outputs": [
    {
     "data": {
      "text/plain": [
       "0.856946669718471"
      ]
     },
     "execution_count": 74,
     "metadata": {},
     "output_type": "execute_result"
    }
   ],
   "source": [
    "# Score \n",
    "model.score(x_train,y_train)"
   ]
  },
  {
   "cell_type": "code",
   "execution_count": 75,
   "metadata": {},
   "outputs": [
    {
     "data": {
      "text/plain": [
       "0.8032936870997255"
      ]
     },
     "execution_count": 75,
     "metadata": {},
     "output_type": "execute_result"
    }
   ],
   "source": [
    "# Score \n",
    "model.score(x_test,y_test)"
   ]
  },
  {
   "cell_type": "markdown",
   "metadata": {},
   "source": [
    "## ModeL Evaluation\n",
    "- confusion Matrix\n",
    "- Classification Report\n",
    "- Kappa Score\n",
    "- ROC and AUC (Probability)"
   ]
  },
  {
   "cell_type": "code",
   "execution_count": 76,
   "metadata": {},
   "outputs": [],
   "source": [
    "from sklearn import metrics"
   ]
  },
  {
   "cell_type": "code",
   "execution_count": 77,
   "metadata": {},
   "outputs": [],
   "source": [
    "y_pred = model.predict(x_test)\n",
    "y_prob = model.predict_proba(x_test) # proability"
   ]
  },
  {
   "cell_type": "code",
   "execution_count": 78,
   "metadata": {},
   "outputs": [
    {
     "data": {
      "image/png": "[encoded data removed]",
      "text/plain": [
       "<Figure size 432x288 with 1 Axes>"
      ]
     },
     "metadata": {
      "needs_background": "light"
     },
     "output_type": "display_data"
    }
   ],
   "source": [
    "cm = metrics.confusion_matrix(y_test,y_pred)\n",
    "cm = np.concatenate((cm,cm.sum(axis=0).reshape(1,-1)),axis=0)\n",
    "cm = np.concatenate((cm,cm.sum(axis=1).reshape(-1,1)),axis=1)\n",
    "plt.imshow(cm)\n",
    "for i in range(3):\n",
    "    for j in range(3):\n",
    "        plt.text(i,j,'%d'%cm[i,j])\n",
    "        \n",
    "plt.xticks([0,1])\n",
    "plt.yticks([0,1])\n",
    "plt.xlabel('Predicted Values')\n",
    "plt.ylabel('True Values')\n",
    "plt.show()"
   ]
  },
  {
   "cell_type": "code",
   "execution_count": 79,
   "metadata": {},
   "outputs": [
    {
     "data": {
      "text/html": [
       "<div>\n",
       "<style scoped>\n",
       "    .dataframe tbody tr th:only-of-type {\n",
       "        vertical-align: middle;\n",
       "    }\n",
       "\n",
       "    .dataframe tbody tr th {\n",
       "        vertical-align: top;\n",
       "    }\n",
       "\n",
       "    .dataframe thead th {\n",
       "        text-align: right;\n",
       "    }\n",
       "</style>\n",
       "<table border=\"1\" class=\"dataframe\">\n",
       "  <thead>\n",
       "    <tr style=\"text-align: right;\">\n",
       "      <th></th>\n",
       "      <th>precision</th>\n",
       "      <th>recall</th>\n",
       "      <th>f1-score</th>\n",
       "      <th>support</th>\n",
       "    </tr>\n",
       "  </thead>\n",
       "  <tbody>\n",
       "    <tr>\n",
       "      <th>male</th>\n",
       "      <td>0.795812</td>\n",
       "      <td>0.689342</td>\n",
       "      <td>0.738761</td>\n",
       "      <td>441.000000</td>\n",
       "    </tr>\n",
       "    <tr>\n",
       "      <th>female</th>\n",
       "      <td>0.807314</td>\n",
       "      <td>0.880368</td>\n",
       "      <td>0.842260</td>\n",
       "      <td>652.000000</td>\n",
       "    </tr>\n",
       "    <tr>\n",
       "      <th>accuracy</th>\n",
       "      <td>0.803294</td>\n",
       "      <td>0.803294</td>\n",
       "      <td>0.803294</td>\n",
       "      <td>0.803294</td>\n",
       "    </tr>\n",
       "    <tr>\n",
       "      <th>macro avg</th>\n",
       "      <td>0.801563</td>\n",
       "      <td>0.784855</td>\n",
       "      <td>0.790510</td>\n",
       "      <td>1093.000000</td>\n",
       "    </tr>\n",
       "    <tr>\n",
       "      <th>weighted avg</th>\n",
       "      <td>0.802673</td>\n",
       "      <td>0.803294</td>\n",
       "      <td>0.800500</td>\n",
       "      <td>1093.000000</td>\n",
       "    </tr>\n",
       "  </tbody>\n",
       "</table>\n",
       "</div>"
      ],
      "text/plain": [
       "              precision    recall  f1-score      support\n",
       "male           0.795812  0.689342  0.738761   441.000000\n",
       "female         0.807314  0.880368  0.842260   652.000000\n",
       "accuracy       0.803294  0.803294  0.803294     0.803294\n",
       "macro avg      0.801563  0.784855  0.790510  1093.000000\n",
       "weighted avg   0.802673  0.803294  0.800500  1093.000000"
      ]
     },
     "execution_count": 79,
     "metadata": {},
     "output_type": "execute_result"
    }
   ],
   "source": [
    "# classification report\n",
    "cr = metrics.classification_report(y_test,y_pred,target_names=['male','female'],output_dict=True)\n",
    "pd.DataFrame(cr).T"
   ]
  },
  {
   "cell_type": "markdown",
   "metadata": {},
   "source": [
    "- **Kappa -->Talk about Random Accuracy**\n",
    "- Kappa score > 80 best model \n",
    "- For good mode kappa score must be more than 60%\n",
    "- For   kappa score < 40% it is poor model\n",
    "- For Kappa score < 25% it is worst model don't consider"
   ]
  },
  {
   "cell_type": "code",
   "execution_count": 80,
   "metadata": {},
   "outputs": [
    {
     "data": {
      "text/plain": [
       "0.5823165041813674"
      ]
     },
     "execution_count": 80,
     "metadata": {},
     "output_type": "execute_result"
    }
   ],
   "source": [
    "# kappa\n",
    "metrics.cohen_kappa_score(y_test,y_pred)"
   ]
  },
  {
   "cell_type": "markdown",
   "metadata": {},
   "source": [
    "### ROC AND AUC "
   ]
  },
  {
   "cell_type": "code",
   "execution_count": 81,
   "metadata": {},
   "outputs": [
    {
     "data": {
      "image/png": "[encoded data removed]",
      "text/plain": [
       "<Figure size 720x432 with 1 Axes>"
      ]
     },
     "metadata": {
      "needs_background": "light"
     },
     "output_type": "display_data"
    }
   ],
   "source": [
    "# Reciver opertaing characteristics & Area under the  curve\n",
    "# roc for female\n",
    "\n",
    "fpr,tpr,thresh = metrics.roc_curve(y_test,y_prob[:,1])\n",
    "auc_s = metrics.auc(fpr,tpr)\n",
    "plt.figure(figsize=(10,6))\n",
    "plt.plot(fpr,tpr,'-.')\n",
    "plt.plot([0,1],[0,1],'b--')\n",
    "for i in range(0,len(thresh),20):\n",
    "    plt.plot(fpr[i],tpr[i],'^')\n",
    "    plt.text(fpr[i],tpr[i],\"%0.2f\"%thresh[i])\n",
    "    \n",
    "plt.legend(['AUC Score = %0.2f'%auc_s])\n",
    "\n",
    "plt.xlabel('False Positve Rate')\n",
    "plt.ylabel('True Positive Rate')\n",
    "plt.title('Receiver Operating Characterstics')\n",
    "plt.show()"
   ]
  },
  {
   "cell_type": "markdown",
   "metadata": {},
   "source": [
    "### Hyper Parameter Running"
   ]
  },
  {
   "cell_type": "code",
   "execution_count": 82,
   "metadata": {},
   "outputs": [],
   "source": [
    "# Grid search method is used to tune the ML model\n",
    "model_tune = SVC()"
   ]
  },
  {
   "cell_type": "code",
   "execution_count": 83,
   "metadata": {},
   "outputs": [],
   "source": [
    "from sklearn.model_selection import GridSearchCV"
   ]
  },
  {
   "cell_type": "code",
   "execution_count": 84,
   "metadata": {},
   "outputs": [],
   "source": [
    "# C = slack variable\n",
    "# rbf kernal have infinite number of dimensions (Radial bises function)\n",
    "# Degree is only used for ploy\n",
    "# gamma is only used for rbf\n",
    "param_grid = {'C':[1,10,20,30,50,100],\n",
    "             'kernel':['rbf','poly'],\n",
    "             'gamma':[0.1,0.05,0.01,0.001,0.002,0.005],\n",
    "             'coef0':[0,1],\n",
    "             }"
   ]
  },
  {
   "cell_type": "code",
   "execution_count": 85,
   "metadata": {},
   "outputs": [],
   "source": [
    "model_grid = GridSearchCV(model_tune,param_grid=param_grid,scoring='accuracy',cv=5,verbose=2)"
   ]
  },
  {
   "cell_type": "code",
   "execution_count": 86,
   "metadata": {},
   "outputs": [
    {
     "name": "stdout",
     "output_type": "stream",
     "text": [
      "Fitting 5 folds for each of 144 candidates, totalling 720 fits\n",
      "[CV] END ................C=1, coef0=0, gamma=0.1, kernel=rbf; total time=   3.2s\n",
      "[CV] END ................C=1, coef0=0, gamma=0.1, kernel=rbf; total time=   2.8s\n",
      "[CV] END ................C=1, coef0=0, gamma=0.1, kernel=rbf; total time=   2.6s\n",
      "[CV] END ................C=1, coef0=0, gamma=0.1, kernel=rbf; total time=   2.8s\n",
      "[CV] END ................C=1, coef0=0, gamma=0.1, kernel=rbf; total time=   2.5s\n",
      "[CV] END ...............C=1, coef0=0, gamma=0.1, kernel=poly; total time=   1.8s\n",
      "[CV] END ...............C=1, coef0=0, gamma=0.1, kernel=poly; total time=   1.9s\n",
      "[CV] END ...............C=1, coef0=0, gamma=0.1, kernel=poly; total time=   1.9s\n",
      "[CV] END ...............C=1, coef0=0, gamma=0.1, kernel=poly; total time=   1.8s\n",
      "[CV] END ...............C=1, coef0=0, gamma=0.1, kernel=poly; total time=   1.9s\n",
      "[CV] END ...............C=1, coef0=0, gamma=0.05, kernel=rbf; total time=   2.5s\n",
      "[CV] END ...............C=1, coef0=0, gamma=0.05, kernel=rbf; total time=   2.4s\n",
      "[CV] END ...............C=1, coef0=0, gamma=0.05, kernel=rbf; total time=   2.5s\n",
      "[CV] END ...............C=1, coef0=0, gamma=0.05, kernel=rbf; total time=   2.6s\n",
      "[CV] END ...............C=1, coef0=0, gamma=0.05, kernel=rbf; total time=   2.6s\n",
      "[CV] END ..............C=1, coef0=0, gamma=0.05, kernel=poly; total time=   2.0s\n",
      "[CV] END ..............C=1, coef0=0, gamma=0.05, kernel=poly; total time=   1.7s\n",
      "[CV] END ..............C=1, coef0=0, gamma=0.05, kernel=poly; total time=   1.4s\n",
      "[CV] END ..............C=1, coef0=0, gamma=0.05, kernel=poly; total time=   1.6s\n",
      "[CV] END ..............C=1, coef0=0, gamma=0.05, kernel=poly; total time=   1.8s\n",
      "[CV] END ...............C=1, coef0=0, gamma=0.01, kernel=rbf; total time=   1.8s\n",
      "[CV] END ...............C=1, coef0=0, gamma=0.01, kernel=rbf; total time=   1.8s\n",
      "[CV] END ...............C=1, coef0=0, gamma=0.01, kernel=rbf; total time=   1.8s\n",
      "[CV] END ...............C=1, coef0=0, gamma=0.01, kernel=rbf; total time=   1.8s\n",
      "[CV] END ...............C=1, coef0=0, gamma=0.01, kernel=rbf; total time=   1.8s\n",
      "[CV] END ..............C=1, coef0=0, gamma=0.01, kernel=poly; total time=   1.6s\n",
      "[CV] END ..............C=1, coef0=0, gamma=0.01, kernel=poly; total time=   1.5s\n",
      "[CV] END ..............C=1, coef0=0, gamma=0.01, kernel=poly; total time=   1.4s\n",
      "[CV] END ..............C=1, coef0=0, gamma=0.01, kernel=poly; total time=   1.5s\n",
      "[CV] END ..............C=1, coef0=0, gamma=0.01, kernel=poly; total time=   1.4s\n",
      "[CV] END ..............C=1, coef0=0, gamma=0.001, kernel=rbf; total time=   2.2s\n",
      "[CV] END ..............C=1, coef0=0, gamma=0.001, kernel=rbf; total time=   2.1s\n",
      "[CV] END ..............C=1, coef0=0, gamma=0.001, kernel=rbf; total time=   2.1s\n",
      "[CV] END ..............C=1, coef0=0, gamma=0.001, kernel=rbf; total time=   2.5s\n",
      "[CV] END ..............C=1, coef0=0, gamma=0.001, kernel=rbf; total time=   4.5s\n",
      "[CV] END .............C=1, coef0=0, gamma=0.001, kernel=poly; total time=   2.3s\n",
      "[CV] END .............C=1, coef0=0, gamma=0.001, kernel=poly; total time=   1.4s\n",
      "[CV] END .............C=1, coef0=0, gamma=0.001, kernel=poly; total time=   1.4s\n",
      "[CV] END .............C=1, coef0=0, gamma=0.001, kernel=poly; total time=   1.9s\n",
      "[CV] END .............C=1, coef0=0, gamma=0.001, kernel=poly; total time=   1.4s\n",
      "[CV] END ..............C=1, coef0=0, gamma=0.002, kernel=rbf; total time=   1.9s\n",
      "[CV] END ..............C=1, coef0=0, gamma=0.002, kernel=rbf; total time=   1.8s\n",
      "[CV] END ..............C=1, coef0=0, gamma=0.002, kernel=rbf; total time=   1.8s\n",
      "[CV] END ..............C=1, coef0=0, gamma=0.002, kernel=rbf; total time=   1.8s\n",
      "[CV] END ..............C=1, coef0=0, gamma=0.002, kernel=rbf; total time=   1.8s\n",
      "[CV] END .............C=1, coef0=0, gamma=0.002, kernel=poly; total time=   1.4s\n",
      "[CV] END .............C=1, coef0=0, gamma=0.002, kernel=poly; total time=   1.4s\n",
      "[CV] END .............C=1, coef0=0, gamma=0.002, kernel=poly; total time=   1.4s\n",
      "[CV] END .............C=1, coef0=0, gamma=0.002, kernel=poly; total time=   1.4s\n",
      "[CV] END .............C=1, coef0=0, gamma=0.002, kernel=poly; total time=   1.4s\n",
      "[CV] END ..............C=1, coef0=0, gamma=0.005, kernel=rbf; total time=   2.0s\n",
      "[CV] END ..............C=1, coef0=0, gamma=0.005, kernel=rbf; total time=   1.7s\n",
      "[CV] END ..............C=1, coef0=0, gamma=0.005, kernel=rbf; total time=   1.7s\n",
      "[CV] END ..............C=1, coef0=0, gamma=0.005, kernel=rbf; total time=   1.7s\n",
      "[CV] END ..............C=1, coef0=0, gamma=0.005, kernel=rbf; total time=   1.7s\n",
      "[CV] END .............C=1, coef0=0, gamma=0.005, kernel=poly; total time=   1.4s\n",
      "[CV] END .............C=1, coef0=0, gamma=0.005, kernel=poly; total time=   1.4s\n",
      "[CV] END .............C=1, coef0=0, gamma=0.005, kernel=poly; total time=   1.5s\n",
      "[CV] END .............C=1, coef0=0, gamma=0.005, kernel=poly; total time=   1.5s\n",
      "[CV] END .............C=1, coef0=0, gamma=0.005, kernel=poly; total time=   1.4s\n",
      "[CV] END ................C=1, coef0=1, gamma=0.1, kernel=rbf; total time=   2.5s\n",
      "[CV] END ................C=1, coef0=1, gamma=0.1, kernel=rbf; total time=   2.5s\n",
      "[CV] END ................C=1, coef0=1, gamma=0.1, kernel=rbf; total time=   2.5s\n",
      "[CV] END ................C=1, coef0=1, gamma=0.1, kernel=rbf; total time=   2.4s\n",
      "[CV] END ................C=1, coef0=1, gamma=0.1, kernel=rbf; total time=   2.5s\n",
      "[CV] END ...............C=1, coef0=1, gamma=0.1, kernel=poly; total time=   1.3s\n",
      "[CV] END ...............C=1, coef0=1, gamma=0.1, kernel=poly; total time=   1.3s\n",
      "[CV] END ...............C=1, coef0=1, gamma=0.1, kernel=poly; total time=   1.3s\n",
      "[CV] END ...............C=1, coef0=1, gamma=0.1, kernel=poly; total time=   1.2s\n",
      "[CV] END ...............C=1, coef0=1, gamma=0.1, kernel=poly; total time=   1.3s\n",
      "[CV] END ...............C=1, coef0=1, gamma=0.05, kernel=rbf; total time=   2.3s\n",
      "[CV] END ...............C=1, coef0=1, gamma=0.05, kernel=rbf; total time=   2.3s\n",
      "[CV] END ...............C=1, coef0=1, gamma=0.05, kernel=rbf; total time=   2.5s\n",
      "[CV] END ...............C=1, coef0=1, gamma=0.05, kernel=rbf; total time=   2.3s\n",
      "[CV] END ...............C=1, coef0=1, gamma=0.05, kernel=rbf; total time=   2.3s\n",
      "[CV] END ..............C=1, coef0=1, gamma=0.05, kernel=poly; total time=   1.2s\n",
      "[CV] END ..............C=1, coef0=1, gamma=0.05, kernel=poly; total time=   1.1s\n",
      "[CV] END ..............C=1, coef0=1, gamma=0.05, kernel=poly; total time=   1.1s\n",
      "[CV] END ..............C=1, coef0=1, gamma=0.05, kernel=poly; total time=   1.1s\n",
      "[CV] END ..............C=1, coef0=1, gamma=0.05, kernel=poly; total time=   1.1s\n",
      "[CV] END ...............C=1, coef0=1, gamma=0.01, kernel=rbf; total time=   1.7s\n",
      "[CV] END ...............C=1, coef0=1, gamma=0.01, kernel=rbf; total time=   1.7s\n",
      "[CV] END ...............C=1, coef0=1, gamma=0.01, kernel=rbf; total time=   1.7s\n",
      "[CV] END ...............C=1, coef0=1, gamma=0.01, kernel=rbf; total time=   1.7s\n",
      "[CV] END ...............C=1, coef0=1, gamma=0.01, kernel=rbf; total time=   1.7s\n",
      "[CV] END ..............C=1, coef0=1, gamma=0.01, kernel=poly; total time=   1.1s\n",
      "[CV] END ..............C=1, coef0=1, gamma=0.01, kernel=poly; total time=   1.1s\n",
      "[CV] END ..............C=1, coef0=1, gamma=0.01, kernel=poly; total time=   1.1s\n",
      "[CV] END ..............C=1, coef0=1, gamma=0.01, kernel=poly; total time=   1.0s\n",
      "[CV] END ..............C=1, coef0=1, gamma=0.01, kernel=poly; total time=   1.1s\n",
      "[CV] END ..............C=1, coef0=1, gamma=0.001, kernel=rbf; total time=   1.9s\n",
      "[CV] END ..............C=1, coef0=1, gamma=0.001, kernel=rbf; total time=   1.9s\n",
      "[CV] END ..............C=1, coef0=1, gamma=0.001, kernel=rbf; total time=   1.9s\n",
      "[CV] END ..............C=1, coef0=1, gamma=0.001, kernel=rbf; total time=   1.8s\n",
      "[CV] END ..............C=1, coef0=1, gamma=0.001, kernel=rbf; total time=   2.1s\n",
      "[CV] END .............C=1, coef0=1, gamma=0.001, kernel=poly; total time=   1.1s\n",
      "[CV] END .............C=1, coef0=1, gamma=0.001, kernel=poly; total time=   1.1s\n",
      "[CV] END .............C=1, coef0=1, gamma=0.001, kernel=poly; total time=   1.0s\n",
      "[CV] END .............C=1, coef0=1, gamma=0.001, kernel=poly; total time=   1.0s\n",
      "[CV] END .............C=1, coef0=1, gamma=0.001, kernel=poly; total time=   1.0s\n",
      "[CV] END ..............C=1, coef0=1, gamma=0.002, kernel=rbf; total time=   1.8s\n"
     ]
    },
    {
     "name": "stdout",
     "output_type": "stream",
     "text": [
      "[CV] END ..............C=1, coef0=1, gamma=0.002, kernel=rbf; total time=   1.8s\n",
      "[CV] END ..............C=1, coef0=1, gamma=0.002, kernel=rbf; total time=   1.8s\n",
      "[CV] END ..............C=1, coef0=1, gamma=0.002, kernel=rbf; total time=   1.8s\n",
      "[CV] END ..............C=1, coef0=1, gamma=0.002, kernel=rbf; total time=   1.8s\n",
      "[CV] END .............C=1, coef0=1, gamma=0.002, kernel=poly; total time=   1.0s\n",
      "[CV] END .............C=1, coef0=1, gamma=0.002, kernel=poly; total time=   1.0s\n",
      "[CV] END .............C=1, coef0=1, gamma=0.002, kernel=poly; total time=   1.0s\n",
      "[CV] END .............C=1, coef0=1, gamma=0.002, kernel=poly; total time=   1.0s\n",
      "[CV] END .............C=1, coef0=1, gamma=0.002, kernel=poly; total time=   1.0s\n",
      "[CV] END ..............C=1, coef0=1, gamma=0.005, kernel=rbf; total time=   1.7s\n",
      "[CV] END ..............C=1, coef0=1, gamma=0.005, kernel=rbf; total time=   1.7s\n",
      "[CV] END ..............C=1, coef0=1, gamma=0.005, kernel=rbf; total time=   1.7s\n",
      "[CV] END ..............C=1, coef0=1, gamma=0.005, kernel=rbf; total time=   1.9s\n",
      "[CV] END ..............C=1, coef0=1, gamma=0.005, kernel=rbf; total time=   1.9s\n",
      "[CV] END .............C=1, coef0=1, gamma=0.005, kernel=poly; total time=   1.1s\n",
      "[CV] END .............C=1, coef0=1, gamma=0.005, kernel=poly; total time=   1.2s\n",
      "[CV] END .............C=1, coef0=1, gamma=0.005, kernel=poly; total time=   1.5s\n",
      "[CV] END .............C=1, coef0=1, gamma=0.005, kernel=poly; total time=   1.4s\n",
      "[CV] END .............C=1, coef0=1, gamma=0.005, kernel=poly; total time=   1.3s\n",
      "[CV] END ...............C=10, coef0=0, gamma=0.1, kernel=rbf; total time=   3.1s\n",
      "[CV] END ...............C=10, coef0=0, gamma=0.1, kernel=rbf; total time=   3.3s\n",
      "[CV] END ...............C=10, coef0=0, gamma=0.1, kernel=rbf; total time=   2.4s\n",
      "[CV] END ...............C=10, coef0=0, gamma=0.1, kernel=rbf; total time=   2.2s\n",
      "[CV] END ...............C=10, coef0=0, gamma=0.1, kernel=rbf; total time=   2.3s\n",
      "[CV] END ..............C=10, coef0=0, gamma=0.1, kernel=poly; total time=   1.8s\n",
      "[CV] END ..............C=10, coef0=0, gamma=0.1, kernel=poly; total time=   1.8s\n",
      "[CV] END ..............C=10, coef0=0, gamma=0.1, kernel=poly; total time=   2.0s\n",
      "[CV] END ..............C=10, coef0=0, gamma=0.1, kernel=poly; total time=   1.9s\n",
      "[CV] END ..............C=10, coef0=0, gamma=0.1, kernel=poly; total time=   1.7s\n",
      "[CV] END ..............C=10, coef0=0, gamma=0.05, kernel=rbf; total time=   2.2s\n",
      "[CV] END ..............C=10, coef0=0, gamma=0.05, kernel=rbf; total time=   2.3s\n",
      "[CV] END ..............C=10, coef0=0, gamma=0.05, kernel=rbf; total time=   2.2s\n",
      "[CV] END ..............C=10, coef0=0, gamma=0.05, kernel=rbf; total time=   2.2s\n",
      "[CV] END ..............C=10, coef0=0, gamma=0.05, kernel=rbf; total time=   2.2s\n",
      "[CV] END .............C=10, coef0=0, gamma=0.05, kernel=poly; total time=   1.6s\n",
      "[CV] END .............C=10, coef0=0, gamma=0.05, kernel=poly; total time=   1.7s\n",
      "[CV] END .............C=10, coef0=0, gamma=0.05, kernel=poly; total time=   1.7s\n",
      "[CV] END .............C=10, coef0=0, gamma=0.05, kernel=poly; total time=   2.0s\n",
      "[CV] END .............C=10, coef0=0, gamma=0.05, kernel=poly; total time=   2.1s\n",
      "[CV] END ..............C=10, coef0=0, gamma=0.01, kernel=rbf; total time=   2.1s\n",
      "[CV] END ..............C=10, coef0=0, gamma=0.01, kernel=rbf; total time=   2.0s\n",
      "[CV] END ..............C=10, coef0=0, gamma=0.01, kernel=rbf; total time=   2.0s\n",
      "[CV] END ..............C=10, coef0=0, gamma=0.01, kernel=rbf; total time=   1.9s\n",
      "[CV] END ..............C=10, coef0=0, gamma=0.01, kernel=rbf; total time=   1.9s\n",
      "[CV] END .............C=10, coef0=0, gamma=0.01, kernel=poly; total time=   1.4s\n",
      "[CV] END .............C=10, coef0=0, gamma=0.01, kernel=poly; total time=   1.3s\n",
      "[CV] END .............C=10, coef0=0, gamma=0.01, kernel=poly; total time=   1.3s\n",
      "[CV] END .............C=10, coef0=0, gamma=0.01, kernel=poly; total time=   1.3s\n",
      "[CV] END .............C=10, coef0=0, gamma=0.01, kernel=poly; total time=   1.4s\n",
      "[CV] END .............C=10, coef0=0, gamma=0.001, kernel=rbf; total time=   1.7s\n",
      "[CV] END .............C=10, coef0=0, gamma=0.001, kernel=rbf; total time=   1.6s\n",
      "[CV] END .............C=10, coef0=0, gamma=0.001, kernel=rbf; total time=   1.6s\n",
      "[CV] END .............C=10, coef0=0, gamma=0.001, kernel=rbf; total time=   1.6s\n",
      "[CV] END .............C=10, coef0=0, gamma=0.001, kernel=rbf; total time=   1.6s\n",
      "[CV] END ............C=10, coef0=0, gamma=0.001, kernel=poly; total time=   1.4s\n",
      "[CV] END ............C=10, coef0=0, gamma=0.001, kernel=poly; total time=   1.4s\n",
      "[CV] END ............C=10, coef0=0, gamma=0.001, kernel=poly; total time=   1.4s\n",
      "[CV] END ............C=10, coef0=0, gamma=0.001, kernel=poly; total time=   1.4s\n",
      "[CV] END ............C=10, coef0=0, gamma=0.001, kernel=poly; total time=   1.4s\n",
      "[CV] END .............C=10, coef0=0, gamma=0.002, kernel=rbf; total time=   1.8s\n",
      "[CV] END .............C=10, coef0=0, gamma=0.002, kernel=rbf; total time=   2.2s\n",
      "[CV] END .............C=10, coef0=0, gamma=0.002, kernel=rbf; total time=   1.8s\n",
      "[CV] END .............C=10, coef0=0, gamma=0.002, kernel=rbf; total time=   1.7s\n",
      "[CV] END .............C=10, coef0=0, gamma=0.002, kernel=rbf; total time=   1.8s\n",
      "[CV] END ............C=10, coef0=0, gamma=0.002, kernel=poly; total time=   1.4s\n",
      "[CV] END ............C=10, coef0=0, gamma=0.002, kernel=poly; total time=   1.4s\n",
      "[CV] END ............C=10, coef0=0, gamma=0.002, kernel=poly; total time=   1.4s\n",
      "[CV] END ............C=10, coef0=0, gamma=0.002, kernel=poly; total time=   1.4s\n",
      "[CV] END ............C=10, coef0=0, gamma=0.002, kernel=poly; total time=   1.4s\n",
      "[CV] END .............C=10, coef0=0, gamma=0.005, kernel=rbf; total time=   1.8s\n",
      "[CV] END .............C=10, coef0=0, gamma=0.005, kernel=rbf; total time=   1.9s\n",
      "[CV] END .............C=10, coef0=0, gamma=0.005, kernel=rbf; total time=   1.8s\n",
      "[CV] END .............C=10, coef0=0, gamma=0.005, kernel=rbf; total time=   1.8s\n",
      "[CV] END .............C=10, coef0=0, gamma=0.005, kernel=rbf; total time=   1.8s\n",
      "[CV] END ............C=10, coef0=0, gamma=0.005, kernel=poly; total time=   1.4s\n",
      "[CV] END ............C=10, coef0=0, gamma=0.005, kernel=poly; total time=   1.4s\n",
      "[CV] END ............C=10, coef0=0, gamma=0.005, kernel=poly; total time=   1.7s\n",
      "[CV] END ............C=10, coef0=0, gamma=0.005, kernel=poly; total time=   1.4s\n",
      "[CV] END ............C=10, coef0=0, gamma=0.005, kernel=poly; total time=   1.5s\n",
      "[CV] END ...............C=10, coef0=1, gamma=0.1, kernel=rbf; total time=   2.4s\n",
      "[CV] END ...............C=10, coef0=1, gamma=0.1, kernel=rbf; total time=   2.4s\n",
      "[CV] END ...............C=10, coef0=1, gamma=0.1, kernel=rbf; total time=   2.7s\n",
      "[CV] END ...............C=10, coef0=1, gamma=0.1, kernel=rbf; total time=   2.6s\n",
      "[CV] END ...............C=10, coef0=1, gamma=0.1, kernel=rbf; total time=   2.3s\n",
      "[CV] END ..............C=10, coef0=1, gamma=0.1, kernel=poly; total time=   1.3s\n",
      "[CV] END ..............C=10, coef0=1, gamma=0.1, kernel=poly; total time=   1.3s\n",
      "[CV] END ..............C=10, coef0=1, gamma=0.1, kernel=poly; total time=   1.3s\n",
      "[CV] END ..............C=10, coef0=1, gamma=0.1, kernel=poly; total time=   1.2s\n",
      "[CV] END ..............C=10, coef0=1, gamma=0.1, kernel=poly; total time=   1.3s\n",
      "[CV] END ..............C=10, coef0=1, gamma=0.05, kernel=rbf; total time=   2.2s\n",
      "[CV] END ..............C=10, coef0=1, gamma=0.05, kernel=rbf; total time=   2.2s\n",
      "[CV] END ..............C=10, coef0=1, gamma=0.05, kernel=rbf; total time=   2.2s\n",
      "[CV] END ..............C=10, coef0=1, gamma=0.05, kernel=rbf; total time=   2.2s\n",
      "[CV] END ..............C=10, coef0=1, gamma=0.05, kernel=rbf; total time=   2.2s\n",
      "[CV] END .............C=10, coef0=1, gamma=0.05, kernel=poly; total time=   1.2s\n",
      "[CV] END .............C=10, coef0=1, gamma=0.05, kernel=poly; total time=   1.2s\n",
      "[CV] END .............C=10, coef0=1, gamma=0.05, kernel=poly; total time=   1.2s\n",
      "[CV] END .............C=10, coef0=1, gamma=0.05, kernel=poly; total time=   1.1s\n",
      "[CV] END .............C=10, coef0=1, gamma=0.05, kernel=poly; total time=   1.1s\n",
      "[CV] END ..............C=10, coef0=1, gamma=0.01, kernel=rbf; total time=   1.9s\n",
      "[CV] END ..............C=10, coef0=1, gamma=0.01, kernel=rbf; total time=   2.0s\n",
      "[CV] END ..............C=10, coef0=1, gamma=0.01, kernel=rbf; total time=   2.3s\n"
     ]
    },
    {
     "name": "stdout",
     "output_type": "stream",
     "text": [
      "[CV] END ..............C=10, coef0=1, gamma=0.01, kernel=rbf; total time=   1.9s\n",
      "[CV] END ..............C=10, coef0=1, gamma=0.01, kernel=rbf; total time=   1.9s\n",
      "[CV] END .............C=10, coef0=1, gamma=0.01, kernel=poly; total time=   1.9s\n",
      "[CV] END .............C=10, coef0=1, gamma=0.01, kernel=poly; total time=   1.8s\n",
      "[CV] END .............C=10, coef0=1, gamma=0.01, kernel=poly; total time=   1.9s\n",
      "[CV] END .............C=10, coef0=1, gamma=0.01, kernel=poly; total time=   1.8s\n",
      "[CV] END .............C=10, coef0=1, gamma=0.01, kernel=poly; total time=   1.8s\n",
      "[CV] END .............C=10, coef0=1, gamma=0.001, kernel=rbf; total time=   1.7s\n",
      "[CV] END .............C=10, coef0=1, gamma=0.001, kernel=rbf; total time=   1.6s\n",
      "[CV] END .............C=10, coef0=1, gamma=0.001, kernel=rbf; total time=   1.6s\n",
      "[CV] END .............C=10, coef0=1, gamma=0.001, kernel=rbf; total time=   1.6s\n",
      "[CV] END .............C=10, coef0=1, gamma=0.001, kernel=rbf; total time=   1.6s\n",
      "[CV] END ............C=10, coef0=1, gamma=0.001, kernel=poly; total time=   1.1s\n",
      "[CV] END ............C=10, coef0=1, gamma=0.001, kernel=poly; total time=   1.0s\n",
      "[CV] END ............C=10, coef0=1, gamma=0.001, kernel=poly; total time=   1.1s\n",
      "[CV] END ............C=10, coef0=1, gamma=0.001, kernel=poly; total time=   1.1s\n",
      "[CV] END ............C=10, coef0=1, gamma=0.001, kernel=poly; total time=   1.1s\n",
      "[CV] END .............C=10, coef0=1, gamma=0.002, kernel=rbf; total time=   1.8s\n",
      "[CV] END .............C=10, coef0=1, gamma=0.002, kernel=rbf; total time=   1.7s\n",
      "[CV] END .............C=10, coef0=1, gamma=0.002, kernel=rbf; total time=   1.7s\n",
      "[CV] END .............C=10, coef0=1, gamma=0.002, kernel=rbf; total time=   1.9s\n",
      "[CV] END .............C=10, coef0=1, gamma=0.002, kernel=rbf; total time=   1.7s\n",
      "[CV] END ............C=10, coef0=1, gamma=0.002, kernel=poly; total time=   1.2s\n",
      "[CV] END ............C=10, coef0=1, gamma=0.002, kernel=poly; total time=   1.2s\n",
      "[CV] END ............C=10, coef0=1, gamma=0.002, kernel=poly; total time=   1.2s\n",
      "[CV] END ............C=10, coef0=1, gamma=0.002, kernel=poly; total time=   1.2s\n",
      "[CV] END ............C=10, coef0=1, gamma=0.002, kernel=poly; total time=   1.2s\n",
      "[CV] END .............C=10, coef0=1, gamma=0.005, kernel=rbf; total time=   1.9s\n",
      "[CV] END .............C=10, coef0=1, gamma=0.005, kernel=rbf; total time=   1.9s\n",
      "[CV] END .............C=10, coef0=1, gamma=0.005, kernel=rbf; total time=   1.8s\n",
      "[CV] END .............C=10, coef0=1, gamma=0.005, kernel=rbf; total time=   2.0s\n",
      "[CV] END .............C=10, coef0=1, gamma=0.005, kernel=rbf; total time=   2.1s\n",
      "[CV] END ............C=10, coef0=1, gamma=0.005, kernel=poly; total time=   1.6s\n",
      "[CV] END ............C=10, coef0=1, gamma=0.005, kernel=poly; total time=   1.6s\n",
      "[CV] END ............C=10, coef0=1, gamma=0.005, kernel=poly; total time=   1.6s\n",
      "[CV] END ............C=10, coef0=1, gamma=0.005, kernel=poly; total time=   1.5s\n",
      "[CV] END ............C=10, coef0=1, gamma=0.005, kernel=poly; total time=   1.5s\n",
      "[CV] END ...............C=20, coef0=0, gamma=0.1, kernel=rbf; total time=   2.2s\n",
      "[CV] END ...............C=20, coef0=0, gamma=0.1, kernel=rbf; total time=   2.3s\n",
      "[CV] END ...............C=20, coef0=0, gamma=0.1, kernel=rbf; total time=   2.4s\n",
      "[CV] END ...............C=20, coef0=0, gamma=0.1, kernel=rbf; total time=   2.3s\n",
      "[CV] END ...............C=20, coef0=0, gamma=0.1, kernel=rbf; total time=   2.3s\n",
      "[CV] END ..............C=20, coef0=0, gamma=0.1, kernel=poly; total time=   2.0s\n",
      "[CV] END ..............C=20, coef0=0, gamma=0.1, kernel=poly; total time=   1.9s\n",
      "[CV] END ..............C=20, coef0=0, gamma=0.1, kernel=poly; total time=   2.1s\n",
      "[CV] END ..............C=20, coef0=0, gamma=0.1, kernel=poly; total time=   1.9s\n",
      "[CV] END ..............C=20, coef0=0, gamma=0.1, kernel=poly; total time=   1.7s\n",
      "[CV] END ..............C=20, coef0=0, gamma=0.05, kernel=rbf; total time=   2.2s\n",
      "[CV] END ..............C=20, coef0=0, gamma=0.05, kernel=rbf; total time=   2.2s\n",
      "[CV] END ..............C=20, coef0=0, gamma=0.05, kernel=rbf; total time=   2.2s\n",
      "[CV] END ..............C=20, coef0=0, gamma=0.05, kernel=rbf; total time=   2.2s\n",
      "[CV] END ..............C=20, coef0=0, gamma=0.05, kernel=rbf; total time=   2.3s\n",
      "[CV] END .............C=20, coef0=0, gamma=0.05, kernel=poly; total time=   1.9s\n",
      "[CV] END .............C=20, coef0=0, gamma=0.05, kernel=poly; total time=   1.8s\n",
      "[CV] END .............C=20, coef0=0, gamma=0.05, kernel=poly; total time=   2.1s\n",
      "[CV] END .............C=20, coef0=0, gamma=0.05, kernel=poly; total time=   1.9s\n",
      "[CV] END .............C=20, coef0=0, gamma=0.05, kernel=poly; total time=   1.7s\n",
      "[CV] END ..............C=20, coef0=0, gamma=0.01, kernel=rbf; total time=   2.3s\n",
      "[CV] END ..............C=20, coef0=0, gamma=0.01, kernel=rbf; total time=   2.2s\n",
      "[CV] END ..............C=20, coef0=0, gamma=0.01, kernel=rbf; total time=   2.4s\n",
      "[CV] END ..............C=20, coef0=0, gamma=0.01, kernel=rbf; total time=   2.2s\n",
      "[CV] END ..............C=20, coef0=0, gamma=0.01, kernel=rbf; total time=   2.2s\n",
      "[CV] END .............C=20, coef0=0, gamma=0.01, kernel=poly; total time=   1.4s\n",
      "[CV] END .............C=20, coef0=0, gamma=0.01, kernel=poly; total time=   1.4s\n",
      "[CV] END .............C=20, coef0=0, gamma=0.01, kernel=poly; total time=   1.3s\n",
      "[CV] END .............C=20, coef0=0, gamma=0.01, kernel=poly; total time=   1.4s\n",
      "[CV] END .............C=20, coef0=0, gamma=0.01, kernel=poly; total time=   1.3s\n",
      "[CV] END .............C=20, coef0=0, gamma=0.001, kernel=rbf; total time=   1.8s\n",
      "[CV] END .............C=20, coef0=0, gamma=0.001, kernel=rbf; total time=   1.8s\n",
      "[CV] END .............C=20, coef0=0, gamma=0.001, kernel=rbf; total time=   1.8s\n",
      "[CV] END .............C=20, coef0=0, gamma=0.001, kernel=rbf; total time=   1.7s\n",
      "[CV] END .............C=20, coef0=0, gamma=0.001, kernel=rbf; total time=   1.8s\n",
      "[CV] END ............C=20, coef0=0, gamma=0.001, kernel=poly; total time=   1.5s\n",
      "[CV] END ............C=20, coef0=0, gamma=0.001, kernel=poly; total time=   1.4s\n",
      "[CV] END ............C=20, coef0=0, gamma=0.001, kernel=poly; total time=   1.4s\n",
      "[CV] END ............C=20, coef0=0, gamma=0.001, kernel=poly; total time=   1.4s\n",
      "[CV] END ............C=20, coef0=0, gamma=0.001, kernel=poly; total time=   1.4s\n",
      "[CV] END .............C=20, coef0=0, gamma=0.002, kernel=rbf; total time=   1.9s\n",
      "[CV] END .............C=20, coef0=0, gamma=0.002, kernel=rbf; total time=   1.9s\n",
      "[CV] END .............C=20, coef0=0, gamma=0.002, kernel=rbf; total time=   1.9s\n",
      "[CV] END .............C=20, coef0=0, gamma=0.002, kernel=rbf; total time=   1.9s\n",
      "[CV] END .............C=20, coef0=0, gamma=0.002, kernel=rbf; total time=   2.0s\n",
      "[CV] END ............C=20, coef0=0, gamma=0.002, kernel=poly; total time=   1.7s\n",
      "[CV] END ............C=20, coef0=0, gamma=0.002, kernel=poly; total time=   1.5s\n",
      "[CV] END ............C=20, coef0=0, gamma=0.002, kernel=poly; total time=   1.5s\n",
      "[CV] END ............C=20, coef0=0, gamma=0.002, kernel=poly; total time=   1.5s\n",
      "[CV] END ............C=20, coef0=0, gamma=0.002, kernel=poly; total time=   1.4s\n",
      "[CV] END .............C=20, coef0=0, gamma=0.005, kernel=rbf; total time=   2.1s\n",
      "[CV] END .............C=20, coef0=0, gamma=0.005, kernel=rbf; total time=   2.1s\n",
      "[CV] END .............C=20, coef0=0, gamma=0.005, kernel=rbf; total time=   2.1s\n",
      "[CV] END .............C=20, coef0=0, gamma=0.005, kernel=rbf; total time=   2.2s\n",
      "[CV] END .............C=20, coef0=0, gamma=0.005, kernel=rbf; total time=   1.9s\n",
      "[CV] END ............C=20, coef0=0, gamma=0.005, kernel=poly; total time=   1.6s\n",
      "[CV] END ............C=20, coef0=0, gamma=0.005, kernel=poly; total time=   1.4s\n",
      "[CV] END ............C=20, coef0=0, gamma=0.005, kernel=poly; total time=   1.6s\n",
      "[CV] END ............C=20, coef0=0, gamma=0.005, kernel=poly; total time=   1.8s\n",
      "[CV] END ............C=20, coef0=0, gamma=0.005, kernel=poly; total time=   1.6s\n",
      "[CV] END ...............C=20, coef0=1, gamma=0.1, kernel=rbf; total time=   2.5s\n",
      "[CV] END ...............C=20, coef0=1, gamma=0.1, kernel=rbf; total time=   2.6s\n",
      "[CV] END ...............C=20, coef0=1, gamma=0.1, kernel=rbf; total time=   2.9s\n",
      "[CV] END ...............C=20, coef0=1, gamma=0.1, kernel=rbf; total time=   2.7s\n",
      "[CV] END ...............C=20, coef0=1, gamma=0.1, kernel=rbf; total time=   2.5s\n"
     ]
    },
    {
     "name": "stdout",
     "output_type": "stream",
     "text": [
      "[CV] END ..............C=20, coef0=1, gamma=0.1, kernel=poly; total time=   1.3s\n",
      "[CV] END ..............C=20, coef0=1, gamma=0.1, kernel=poly; total time=   1.4s\n",
      "[CV] END ..............C=20, coef0=1, gamma=0.1, kernel=poly; total time=   1.3s\n",
      "[CV] END ..............C=20, coef0=1, gamma=0.1, kernel=poly; total time=   1.2s\n",
      "[CV] END ..............C=20, coef0=1, gamma=0.1, kernel=poly; total time=   1.2s\n",
      "[CV] END ..............C=20, coef0=1, gamma=0.05, kernel=rbf; total time=   2.2s\n",
      "[CV] END ..............C=20, coef0=1, gamma=0.05, kernel=rbf; total time=   2.2s\n",
      "[CV] END ..............C=20, coef0=1, gamma=0.05, kernel=rbf; total time=   2.2s\n",
      "[CV] END ..............C=20, coef0=1, gamma=0.05, kernel=rbf; total time=   2.3s\n",
      "[CV] END ..............C=20, coef0=1, gamma=0.05, kernel=rbf; total time=   2.2s\n",
      "[CV] END .............C=20, coef0=1, gamma=0.05, kernel=poly; total time=   1.2s\n",
      "[CV] END .............C=20, coef0=1, gamma=0.05, kernel=poly; total time=   1.2s\n",
      "[CV] END .............C=20, coef0=1, gamma=0.05, kernel=poly; total time=   1.2s\n",
      "[CV] END .............C=20, coef0=1, gamma=0.05, kernel=poly; total time=   1.1s\n",
      "[CV] END .............C=20, coef0=1, gamma=0.05, kernel=poly; total time=   1.2s\n",
      "[CV] END ..............C=20, coef0=1, gamma=0.01, kernel=rbf; total time=   2.2s\n",
      "[CV] END ..............C=20, coef0=1, gamma=0.01, kernel=rbf; total time=   2.2s\n",
      "[CV] END ..............C=20, coef0=1, gamma=0.01, kernel=rbf; total time=   2.2s\n",
      "[CV] END ..............C=20, coef0=1, gamma=0.01, kernel=rbf; total time=   2.2s\n",
      "[CV] END ..............C=20, coef0=1, gamma=0.01, kernel=rbf; total time=   2.3s\n",
      "[CV] END .............C=20, coef0=1, gamma=0.01, kernel=poly; total time=   2.5s\n",
      "[CV] END .............C=20, coef0=1, gamma=0.01, kernel=poly; total time=   2.4s\n",
      "[CV] END .............C=20, coef0=1, gamma=0.01, kernel=poly; total time=   2.3s\n",
      "[CV] END .............C=20, coef0=1, gamma=0.01, kernel=poly; total time=   2.3s\n",
      "[CV] END .............C=20, coef0=1, gamma=0.01, kernel=poly; total time=   2.3s\n",
      "[CV] END .............C=20, coef0=1, gamma=0.001, kernel=rbf; total time=   1.8s\n",
      "[CV] END .............C=20, coef0=1, gamma=0.001, kernel=rbf; total time=   1.8s\n",
      "[CV] END .............C=20, coef0=1, gamma=0.001, kernel=rbf; total time=   1.7s\n",
      "[CV] END .............C=20, coef0=1, gamma=0.001, kernel=rbf; total time=   1.8s\n",
      "[CV] END .............C=20, coef0=1, gamma=0.001, kernel=rbf; total time=   1.8s\n",
      "[CV] END ............C=20, coef0=1, gamma=0.001, kernel=poly; total time=   1.3s\n",
      "[CV] END ............C=20, coef0=1, gamma=0.001, kernel=poly; total time=   1.3s\n",
      "[CV] END ............C=20, coef0=1, gamma=0.001, kernel=poly; total time=   1.3s\n",
      "[CV] END ............C=20, coef0=1, gamma=0.001, kernel=poly; total time=   1.2s\n",
      "[CV] END ............C=20, coef0=1, gamma=0.001, kernel=poly; total time=   1.2s\n",
      "[CV] END .............C=20, coef0=1, gamma=0.002, kernel=rbf; total time=   2.0s\n",
      "[CV] END .............C=20, coef0=1, gamma=0.002, kernel=rbf; total time=   1.9s\n",
      "[CV] END .............C=20, coef0=1, gamma=0.002, kernel=rbf; total time=   1.9s\n",
      "[CV] END .............C=20, coef0=1, gamma=0.002, kernel=rbf; total time=   1.8s\n",
      "[CV] END .............C=20, coef0=1, gamma=0.002, kernel=rbf; total time=   2.0s\n",
      "[CV] END ............C=20, coef0=1, gamma=0.002, kernel=poly; total time=   1.5s\n",
      "[CV] END ............C=20, coef0=1, gamma=0.002, kernel=poly; total time=   1.4s\n",
      "[CV] END ............C=20, coef0=1, gamma=0.002, kernel=poly; total time=   1.4s\n",
      "[CV] END ............C=20, coef0=1, gamma=0.002, kernel=poly; total time=   1.4s\n",
      "[CV] END ............C=20, coef0=1, gamma=0.002, kernel=poly; total time=   1.4s\n",
      "[CV] END .............C=20, coef0=1, gamma=0.005, kernel=rbf; total time=   2.1s\n",
      "[CV] END .............C=20, coef0=1, gamma=0.005, kernel=rbf; total time=   2.1s\n",
      "[CV] END .............C=20, coef0=1, gamma=0.005, kernel=rbf; total time=   2.1s\n",
      "[CV] END .............C=20, coef0=1, gamma=0.005, kernel=rbf; total time=   2.1s\n",
      "[CV] END .............C=20, coef0=1, gamma=0.005, kernel=rbf; total time=   2.0s\n",
      "[CV] END ............C=20, coef0=1, gamma=0.005, kernel=poly; total time=   1.9s\n",
      "[CV] END ............C=20, coef0=1, gamma=0.005, kernel=poly; total time=   1.9s\n",
      "[CV] END ............C=20, coef0=1, gamma=0.005, kernel=poly; total time=   2.0s\n",
      "[CV] END ............C=20, coef0=1, gamma=0.005, kernel=poly; total time=   1.9s\n",
      "[CV] END ............C=20, coef0=1, gamma=0.005, kernel=poly; total time=   1.9s\n",
      "[CV] END ...............C=30, coef0=0, gamma=0.1, kernel=rbf; total time=   2.2s\n",
      "[CV] END ...............C=30, coef0=0, gamma=0.1, kernel=rbf; total time=   2.2s\n",
      "[CV] END ...............C=30, coef0=0, gamma=0.1, kernel=rbf; total time=   2.2s\n",
      "[CV] END ...............C=30, coef0=0, gamma=0.1, kernel=rbf; total time=   2.2s\n",
      "[CV] END ...............C=30, coef0=0, gamma=0.1, kernel=rbf; total time=   2.2s\n",
      "[CV] END ..............C=30, coef0=0, gamma=0.1, kernel=poly; total time=   2.0s\n",
      "[CV] END ..............C=30, coef0=0, gamma=0.1, kernel=poly; total time=   1.8s\n",
      "[CV] END ..............C=30, coef0=0, gamma=0.1, kernel=poly; total time=   2.0s\n",
      "[CV] END ..............C=30, coef0=0, gamma=0.1, kernel=poly; total time=   1.9s\n",
      "[CV] END ..............C=30, coef0=0, gamma=0.1, kernel=poly; total time=   1.7s\n",
      "[CV] END ..............C=30, coef0=0, gamma=0.05, kernel=rbf; total time=   2.2s\n",
      "[CV] END ..............C=30, coef0=0, gamma=0.05, kernel=rbf; total time=   2.2s\n",
      "[CV] END ..............C=30, coef0=0, gamma=0.05, kernel=rbf; total time=   2.2s\n",
      "[CV] END ..............C=30, coef0=0, gamma=0.05, kernel=rbf; total time=   2.1s\n",
      "[CV] END ..............C=30, coef0=0, gamma=0.05, kernel=rbf; total time=   2.2s\n",
      "[CV] END .............C=30, coef0=0, gamma=0.05, kernel=poly; total time=   1.8s\n",
      "[CV] END .............C=30, coef0=0, gamma=0.05, kernel=poly; total time=   1.7s\n",
      "[CV] END .............C=30, coef0=0, gamma=0.05, kernel=poly; total time=   2.0s\n",
      "[CV] END .............C=30, coef0=0, gamma=0.05, kernel=poly; total time=   1.8s\n",
      "[CV] END .............C=30, coef0=0, gamma=0.05, kernel=poly; total time=   1.6s\n",
      "[CV] END ..............C=30, coef0=0, gamma=0.01, kernel=rbf; total time=   2.3s\n",
      "[CV] END ..............C=30, coef0=0, gamma=0.01, kernel=rbf; total time=   2.3s\n",
      "[CV] END ..............C=30, coef0=0, gamma=0.01, kernel=rbf; total time=   2.4s\n",
      "[CV] END ..............C=30, coef0=0, gamma=0.01, kernel=rbf; total time=   2.2s\n",
      "[CV] END ..............C=30, coef0=0, gamma=0.01, kernel=rbf; total time=   2.2s\n",
      "[CV] END .............C=30, coef0=0, gamma=0.01, kernel=poly; total time=   1.4s\n",
      "[CV] END .............C=30, coef0=0, gamma=0.01, kernel=poly; total time=   1.4s\n",
      "[CV] END .............C=30, coef0=0, gamma=0.01, kernel=poly; total time=   1.4s\n",
      "[CV] END .............C=30, coef0=0, gamma=0.01, kernel=poly; total time=   1.6s\n",
      "[CV] END .............C=30, coef0=0, gamma=0.01, kernel=poly; total time=   1.4s\n",
      "[CV] END .............C=30, coef0=0, gamma=0.001, kernel=rbf; total time=   1.8s\n",
      "[CV] END .............C=30, coef0=0, gamma=0.001, kernel=rbf; total time=   1.8s\n",
      "[CV] END .............C=30, coef0=0, gamma=0.001, kernel=rbf; total time=   1.8s\n",
      "[CV] END .............C=30, coef0=0, gamma=0.001, kernel=rbf; total time=   1.8s\n",
      "[CV] END .............C=30, coef0=0, gamma=0.001, kernel=rbf; total time=   1.8s\n",
      "[CV] END ............C=30, coef0=0, gamma=0.001, kernel=poly; total time=   1.4s\n",
      "[CV] END ............C=30, coef0=0, gamma=0.001, kernel=poly; total time=   1.4s\n",
      "[CV] END ............C=30, coef0=0, gamma=0.001, kernel=poly; total time=   1.4s\n",
      "[CV] END ............C=30, coef0=0, gamma=0.001, kernel=poly; total time=   1.4s\n",
      "[CV] END ............C=30, coef0=0, gamma=0.001, kernel=poly; total time=   1.4s\n",
      "[CV] END .............C=30, coef0=0, gamma=0.002, kernel=rbf; total time=   2.0s\n",
      "[CV] END .............C=30, coef0=0, gamma=0.002, kernel=rbf; total time=   2.0s\n",
      "[CV] END .............C=30, coef0=0, gamma=0.002, kernel=rbf; total time=   1.9s\n",
      "[CV] END .............C=30, coef0=0, gamma=0.002, kernel=rbf; total time=   1.9s\n",
      "[CV] END .............C=30, coef0=0, gamma=0.002, kernel=rbf; total time=   1.9s\n",
      "[CV] END ............C=30, coef0=0, gamma=0.002, kernel=poly; total time=   1.7s\n",
      "[CV] END ............C=30, coef0=0, gamma=0.002, kernel=poly; total time=   1.7s\n"
     ]
    },
    {
     "name": "stdout",
     "output_type": "stream",
     "text": [
      "[CV] END ............C=30, coef0=0, gamma=0.002, kernel=poly; total time=   1.4s\n",
      "[CV] END ............C=30, coef0=0, gamma=0.002, kernel=poly; total time=   1.4s\n",
      "[CV] END ............C=30, coef0=0, gamma=0.002, kernel=poly; total time=   1.4s\n",
      "[CV] END .............C=30, coef0=0, gamma=0.005, kernel=rbf; total time=   2.2s\n",
      "[CV] END .............C=30, coef0=0, gamma=0.005, kernel=rbf; total time=   2.2s\n",
      "[CV] END .............C=30, coef0=0, gamma=0.005, kernel=rbf; total time=   2.2s\n",
      "[CV] END .............C=30, coef0=0, gamma=0.005, kernel=rbf; total time=   2.1s\n",
      "[CV] END .............C=30, coef0=0, gamma=0.005, kernel=rbf; total time=   2.2s\n",
      "[CV] END ............C=30, coef0=0, gamma=0.005, kernel=poly; total time=   1.4s\n",
      "[CV] END ............C=30, coef0=0, gamma=0.005, kernel=poly; total time=   1.4s\n",
      "[CV] END ............C=30, coef0=0, gamma=0.005, kernel=poly; total time=   1.3s\n",
      "[CV] END ............C=30, coef0=0, gamma=0.005, kernel=poly; total time=   1.3s\n",
      "[CV] END ............C=30, coef0=0, gamma=0.005, kernel=poly; total time=   1.4s\n",
      "[CV] END ...............C=30, coef0=1, gamma=0.1, kernel=rbf; total time=   2.2s\n",
      "[CV] END ...............C=30, coef0=1, gamma=0.1, kernel=rbf; total time=   2.2s\n",
      "[CV] END ...............C=30, coef0=1, gamma=0.1, kernel=rbf; total time=   2.2s\n",
      "[CV] END ...............C=30, coef0=1, gamma=0.1, kernel=rbf; total time=   2.2s\n",
      "[CV] END ...............C=30, coef0=1, gamma=0.1, kernel=rbf; total time=   2.3s\n",
      "[CV] END ..............C=30, coef0=1, gamma=0.1, kernel=poly; total time=   1.4s\n",
      "[CV] END ..............C=30, coef0=1, gamma=0.1, kernel=poly; total time=   1.3s\n",
      "[CV] END ..............C=30, coef0=1, gamma=0.1, kernel=poly; total time=   1.2s\n",
      "[CV] END ..............C=30, coef0=1, gamma=0.1, kernel=poly; total time=   1.2s\n",
      "[CV] END ..............C=30, coef0=1, gamma=0.1, kernel=poly; total time=   1.2s\n",
      "[CV] END ..............C=30, coef0=1, gamma=0.05, kernel=rbf; total time=   2.2s\n",
      "[CV] END ..............C=30, coef0=1, gamma=0.05, kernel=rbf; total time=   2.2s\n",
      "[CV] END ..............C=30, coef0=1, gamma=0.05, kernel=rbf; total time=   2.2s\n",
      "[CV] END ..............C=30, coef0=1, gamma=0.05, kernel=rbf; total time=   2.1s\n",
      "[CV] END ..............C=30, coef0=1, gamma=0.05, kernel=rbf; total time=   2.2s\n",
      "[CV] END .............C=30, coef0=1, gamma=0.05, kernel=poly; total time=   1.2s\n",
      "[CV] END .............C=30, coef0=1, gamma=0.05, kernel=poly; total time=   1.1s\n",
      "[CV] END .............C=30, coef0=1, gamma=0.05, kernel=poly; total time=   1.1s\n",
      "[CV] END .............C=30, coef0=1, gamma=0.05, kernel=poly; total time=   1.1s\n",
      "[CV] END .............C=30, coef0=1, gamma=0.05, kernel=poly; total time=   1.1s\n",
      "[CV] END ..............C=30, coef0=1, gamma=0.01, kernel=rbf; total time=   2.3s\n",
      "[CV] END ..............C=30, coef0=1, gamma=0.01, kernel=rbf; total time=   2.3s\n",
      "[CV] END ..............C=30, coef0=1, gamma=0.01, kernel=rbf; total time=   2.2s\n",
      "[CV] END ..............C=30, coef0=1, gamma=0.01, kernel=rbf; total time=   2.2s\n",
      "[CV] END ..............C=30, coef0=1, gamma=0.01, kernel=rbf; total time=   2.2s\n",
      "[CV] END .............C=30, coef0=1, gamma=0.01, kernel=poly; total time=   2.7s\n",
      "[CV] END .............C=30, coef0=1, gamma=0.01, kernel=poly; total time=   2.5s\n",
      "[CV] END .............C=30, coef0=1, gamma=0.01, kernel=poly; total time=   2.6s\n",
      "[CV] END .............C=30, coef0=1, gamma=0.01, kernel=poly; total time=   2.6s\n",
      "[CV] END .............C=30, coef0=1, gamma=0.01, kernel=poly; total time=   2.5s\n",
      "[CV] END .............C=30, coef0=1, gamma=0.001, kernel=rbf; total time=   1.8s\n",
      "[CV] END .............C=30, coef0=1, gamma=0.001, kernel=rbf; total time=   1.8s\n",
      "[CV] END .............C=30, coef0=1, gamma=0.001, kernel=rbf; total time=   1.8s\n",
      "[CV] END .............C=30, coef0=1, gamma=0.001, kernel=rbf; total time=   1.8s\n",
      "[CV] END .............C=30, coef0=1, gamma=0.001, kernel=rbf; total time=   1.8s\n",
      "[CV] END ............C=30, coef0=1, gamma=0.001, kernel=poly; total time=   1.4s\n",
      "[CV] END ............C=30, coef0=1, gamma=0.001, kernel=poly; total time=   1.5s\n",
      "[CV] END ............C=30, coef0=1, gamma=0.001, kernel=poly; total time=   1.3s\n",
      "[CV] END ............C=30, coef0=1, gamma=0.001, kernel=poly; total time=   1.3s\n",
      "[CV] END ............C=30, coef0=1, gamma=0.001, kernel=poly; total time=   1.3s\n",
      "[CV] END .............C=30, coef0=1, gamma=0.002, kernel=rbf; total time=   2.0s\n",
      "[CV] END .............C=30, coef0=1, gamma=0.002, kernel=rbf; total time=   2.0s\n",
      "[CV] END .............C=30, coef0=1, gamma=0.002, kernel=rbf; total time=   1.9s\n",
      "[CV] END .............C=30, coef0=1, gamma=0.002, kernel=rbf; total time=   1.9s\n",
      "[CV] END .............C=30, coef0=1, gamma=0.002, kernel=rbf; total time=   1.9s\n",
      "[CV] END ............C=30, coef0=1, gamma=0.002, kernel=poly; total time=   1.7s\n",
      "[CV] END ............C=30, coef0=1, gamma=0.002, kernel=poly; total time=   1.7s\n",
      "[CV] END ............C=30, coef0=1, gamma=0.002, kernel=poly; total time=   1.5s\n",
      "[CV] END ............C=30, coef0=1, gamma=0.002, kernel=poly; total time=   1.5s\n",
      "[CV] END ............C=30, coef0=1, gamma=0.002, kernel=poly; total time=   1.6s\n",
      "[CV] END .............C=30, coef0=1, gamma=0.005, kernel=rbf; total time=   2.2s\n",
      "[CV] END .............C=30, coef0=1, gamma=0.005, kernel=rbf; total time=   2.2s\n",
      "[CV] END .............C=30, coef0=1, gamma=0.005, kernel=rbf; total time=   2.2s\n",
      "[CV] END .............C=30, coef0=1, gamma=0.005, kernel=rbf; total time=   2.1s\n",
      "[CV] END .............C=30, coef0=1, gamma=0.005, kernel=rbf; total time=   2.2s\n",
      "[CV] END ............C=30, coef0=1, gamma=0.005, kernel=poly; total time=   2.4s\n",
      "[CV] END ............C=30, coef0=1, gamma=0.005, kernel=poly; total time=   2.5s\n",
      "[CV] END ............C=30, coef0=1, gamma=0.005, kernel=poly; total time=   2.5s\n",
      "[CV] END ............C=30, coef0=1, gamma=0.005, kernel=poly; total time=   2.4s\n",
      "[CV] END ............C=30, coef0=1, gamma=0.005, kernel=poly; total time=   2.3s\n",
      "[CV] END ...............C=50, coef0=0, gamma=0.1, kernel=rbf; total time=   2.2s\n",
      "[CV] END ...............C=50, coef0=0, gamma=0.1, kernel=rbf; total time=   2.2s\n",
      "[CV] END ...............C=50, coef0=0, gamma=0.1, kernel=rbf; total time=   2.2s\n",
      "[CV] END ...............C=50, coef0=0, gamma=0.1, kernel=rbf; total time=   2.2s\n",
      "[CV] END ...............C=50, coef0=0, gamma=0.1, kernel=rbf; total time=   2.4s\n",
      "[CV] END ..............C=50, coef0=0, gamma=0.1, kernel=poly; total time=   1.8s\n",
      "[CV] END ..............C=50, coef0=0, gamma=0.1, kernel=poly; total time=   1.8s\n",
      "[CV] END ..............C=50, coef0=0, gamma=0.1, kernel=poly; total time=   2.0s\n",
      "[CV] END ..............C=50, coef0=0, gamma=0.1, kernel=poly; total time=   2.1s\n",
      "[CV] END ..............C=50, coef0=0, gamma=0.1, kernel=poly; total time=   1.6s\n",
      "[CV] END ..............C=50, coef0=0, gamma=0.05, kernel=rbf; total time=   2.2s\n",
      "[CV] END ..............C=50, coef0=0, gamma=0.05, kernel=rbf; total time=   2.2s\n",
      "[CV] END ..............C=50, coef0=0, gamma=0.05, kernel=rbf; total time=   2.2s\n",
      "[CV] END ..............C=50, coef0=0, gamma=0.05, kernel=rbf; total time=   2.2s\n",
      "[CV] END ..............C=50, coef0=0, gamma=0.05, kernel=rbf; total time=   2.2s\n",
      "[CV] END .............C=50, coef0=0, gamma=0.05, kernel=poly; total time=   1.8s\n",
      "[CV] END .............C=50, coef0=0, gamma=0.05, kernel=poly; total time=   1.8s\n",
      "[CV] END .............C=50, coef0=0, gamma=0.05, kernel=poly; total time=   2.0s\n",
      "[CV] END .............C=50, coef0=0, gamma=0.05, kernel=poly; total time=   1.8s\n",
      "[CV] END .............C=50, coef0=0, gamma=0.05, kernel=poly; total time=   1.6s\n",
      "[CV] END ..............C=50, coef0=0, gamma=0.01, kernel=rbf; total time=   2.6s\n",
      "[CV] END ..............C=50, coef0=0, gamma=0.01, kernel=rbf; total time=   2.5s\n",
      "[CV] END ..............C=50, coef0=0, gamma=0.01, kernel=rbf; total time=   2.3s\n",
      "[CV] END ..............C=50, coef0=0, gamma=0.01, kernel=rbf; total time=   2.3s\n",
      "[CV] END ..............C=50, coef0=0, gamma=0.01, kernel=rbf; total time=   2.3s\n",
      "[CV] END .............C=50, coef0=0, gamma=0.01, kernel=poly; total time=   1.6s\n",
      "[CV] END .............C=50, coef0=0, gamma=0.01, kernel=poly; total time=   1.6s\n",
      "[CV] END .............C=50, coef0=0, gamma=0.01, kernel=poly; total time=   1.6s\n",
      "[CV] END .............C=50, coef0=0, gamma=0.01, kernel=poly; total time=   1.4s\n"
     ]
    },
    {
     "name": "stdout",
     "output_type": "stream",
     "text": [
      "[CV] END .............C=50, coef0=0, gamma=0.01, kernel=poly; total time=   1.6s\n",
      "[CV] END .............C=50, coef0=0, gamma=0.001, kernel=rbf; total time=   2.0s\n",
      "[CV] END .............C=50, coef0=0, gamma=0.001, kernel=rbf; total time=   2.0s\n",
      "[CV] END .............C=50, coef0=0, gamma=0.001, kernel=rbf; total time=   1.9s\n",
      "[CV] END .............C=50, coef0=0, gamma=0.001, kernel=rbf; total time=   1.9s\n",
      "[CV] END .............C=50, coef0=0, gamma=0.001, kernel=rbf; total time=   2.0s\n",
      "[CV] END ............C=50, coef0=0, gamma=0.001, kernel=poly; total time=   1.4s\n",
      "[CV] END ............C=50, coef0=0, gamma=0.001, kernel=poly; total time=   1.4s\n",
      "[CV] END ............C=50, coef0=0, gamma=0.001, kernel=poly; total time=   1.4s\n",
      "[CV] END ............C=50, coef0=0, gamma=0.001, kernel=poly; total time=   1.4s\n",
      "[CV] END ............C=50, coef0=0, gamma=0.001, kernel=poly; total time=   1.4s\n",
      "[CV] END .............C=50, coef0=0, gamma=0.002, kernel=rbf; total time=   2.2s\n",
      "[CV] END .............C=50, coef0=0, gamma=0.002, kernel=rbf; total time=   2.2s\n",
      "[CV] END .............C=50, coef0=0, gamma=0.002, kernel=rbf; total time=   2.4s\n",
      "[CV] END .............C=50, coef0=0, gamma=0.002, kernel=rbf; total time=   2.1s\n",
      "[CV] END .............C=50, coef0=0, gamma=0.002, kernel=rbf; total time=   2.1s\n",
      "[CV] END ............C=50, coef0=0, gamma=0.002, kernel=poly; total time=   1.4s\n",
      "[CV] END ............C=50, coef0=0, gamma=0.002, kernel=poly; total time=   1.4s\n",
      "[CV] END ............C=50, coef0=0, gamma=0.002, kernel=poly; total time=   1.4s\n",
      "[CV] END ............C=50, coef0=0, gamma=0.002, kernel=poly; total time=   1.4s\n",
      "[CV] END ............C=50, coef0=0, gamma=0.002, kernel=poly; total time=   1.4s\n",
      "[CV] END .............C=50, coef0=0, gamma=0.005, kernel=rbf; total time=   2.6s\n",
      "[CV] END .............C=50, coef0=0, gamma=0.005, kernel=rbf; total time=   2.6s\n",
      "[CV] END .............C=50, coef0=0, gamma=0.005, kernel=rbf; total time=   2.6s\n",
      "[CV] END .............C=50, coef0=0, gamma=0.005, kernel=rbf; total time=   2.5s\n",
      "[CV] END .............C=50, coef0=0, gamma=0.005, kernel=rbf; total time=   2.6s\n",
      "[CV] END ............C=50, coef0=0, gamma=0.005, kernel=poly; total time=   1.4s\n",
      "[CV] END ............C=50, coef0=0, gamma=0.005, kernel=poly; total time=   1.4s\n",
      "[CV] END ............C=50, coef0=0, gamma=0.005, kernel=poly; total time=   1.3s\n",
      "[CV] END ............C=50, coef0=0, gamma=0.005, kernel=poly; total time=   1.3s\n",
      "[CV] END ............C=50, coef0=0, gamma=0.005, kernel=poly; total time=   1.4s\n",
      "[CV] END ...............C=50, coef0=1, gamma=0.1, kernel=rbf; total time=   2.3s\n",
      "[CV] END ...............C=50, coef0=1, gamma=0.1, kernel=rbf; total time=   2.4s\n",
      "[CV] END ...............C=50, coef0=1, gamma=0.1, kernel=rbf; total time=   2.2s\n",
      "[CV] END ...............C=50, coef0=1, gamma=0.1, kernel=rbf; total time=   2.3s\n",
      "[CV] END ...............C=50, coef0=1, gamma=0.1, kernel=rbf; total time=   2.2s\n",
      "[CV] END ..............C=50, coef0=1, gamma=0.1, kernel=poly; total time=   1.3s\n",
      "[CV] END ..............C=50, coef0=1, gamma=0.1, kernel=poly; total time=   1.3s\n",
      "[CV] END ..............C=50, coef0=1, gamma=0.1, kernel=poly; total time=   1.3s\n",
      "[CV] END ..............C=50, coef0=1, gamma=0.1, kernel=poly; total time=   1.2s\n",
      "[CV] END ..............C=50, coef0=1, gamma=0.1, kernel=poly; total time=   1.3s\n",
      "[CV] END ..............C=50, coef0=1, gamma=0.05, kernel=rbf; total time=   2.2s\n",
      "[CV] END ..............C=50, coef0=1, gamma=0.05, kernel=rbf; total time=   2.2s\n",
      "[CV] END ..............C=50, coef0=1, gamma=0.05, kernel=rbf; total time=   2.2s\n",
      "[CV] END ..............C=50, coef0=1, gamma=0.05, kernel=rbf; total time=   2.2s\n",
      "[CV] END ..............C=50, coef0=1, gamma=0.05, kernel=rbf; total time=   2.2s\n",
      "[CV] END .............C=50, coef0=1, gamma=0.05, kernel=poly; total time=   1.2s\n",
      "[CV] END .............C=50, coef0=1, gamma=0.05, kernel=poly; total time=   1.1s\n",
      "[CV] END .............C=50, coef0=1, gamma=0.05, kernel=poly; total time=   1.1s\n",
      "[CV] END .............C=50, coef0=1, gamma=0.05, kernel=poly; total time=   1.1s\n",
      "[CV] END .............C=50, coef0=1, gamma=0.05, kernel=poly; total time=   1.1s\n",
      "[CV] END ..............C=50, coef0=1, gamma=0.01, kernel=rbf; total time=   2.4s\n",
      "[CV] END ..............C=50, coef0=1, gamma=0.01, kernel=rbf; total time=   2.4s\n",
      "[CV] END ..............C=50, coef0=1, gamma=0.01, kernel=rbf; total time=   2.4s\n",
      "[CV] END ..............C=50, coef0=1, gamma=0.01, kernel=rbf; total time=   2.4s\n",
      "[CV] END ..............C=50, coef0=1, gamma=0.01, kernel=rbf; total time=   2.4s\n",
      "[CV] END .............C=50, coef0=1, gamma=0.01, kernel=poly; total time=   2.8s\n",
      "[CV] END .............C=50, coef0=1, gamma=0.01, kernel=poly; total time=   2.7s\n",
      "[CV] END .............C=50, coef0=1, gamma=0.01, kernel=poly; total time=   2.6s\n",
      "[CV] END .............C=50, coef0=1, gamma=0.01, kernel=poly; total time=   2.6s\n",
      "[CV] END .............C=50, coef0=1, gamma=0.01, kernel=poly; total time=   2.7s\n",
      "[CV] END .............C=50, coef0=1, gamma=0.001, kernel=rbf; total time=   2.0s\n",
      "[CV] END .............C=50, coef0=1, gamma=0.001, kernel=rbf; total time=   1.9s\n",
      "[CV] END .............C=50, coef0=1, gamma=0.001, kernel=rbf; total time=   1.9s\n",
      "[CV] END .............C=50, coef0=1, gamma=0.001, kernel=rbf; total time=   1.9s\n",
      "[CV] END .............C=50, coef0=1, gamma=0.001, kernel=rbf; total time=   2.0s\n",
      "[CV] END ............C=50, coef0=1, gamma=0.001, kernel=poly; total time=   1.5s\n",
      "[CV] END ............C=50, coef0=1, gamma=0.001, kernel=poly; total time=   1.5s\n",
      "[CV] END ............C=50, coef0=1, gamma=0.001, kernel=poly; total time=   1.5s\n",
      "[CV] END ............C=50, coef0=1, gamma=0.001, kernel=poly; total time=   1.6s\n",
      "[CV] END ............C=50, coef0=1, gamma=0.001, kernel=poly; total time=   1.6s\n",
      "[CV] END .............C=50, coef0=1, gamma=0.002, kernel=rbf; total time=   2.2s\n",
      "[CV] END .............C=50, coef0=1, gamma=0.002, kernel=rbf; total time=   2.2s\n",
      "[CV] END .............C=50, coef0=1, gamma=0.002, kernel=rbf; total time=   2.1s\n",
      "[CV] END .............C=50, coef0=1, gamma=0.002, kernel=rbf; total time=   2.1s\n",
      "[CV] END .............C=50, coef0=1, gamma=0.002, kernel=rbf; total time=   2.1s\n",
      "[CV] END ............C=50, coef0=1, gamma=0.002, kernel=poly; total time=   2.0s\n",
      "[CV] END ............C=50, coef0=1, gamma=0.002, kernel=poly; total time=   2.0s\n",
      "[CV] END ............C=50, coef0=1, gamma=0.002, kernel=poly; total time=   1.9s\n",
      "[CV] END ............C=50, coef0=1, gamma=0.002, kernel=poly; total time=   1.9s\n",
      "[CV] END ............C=50, coef0=1, gamma=0.002, kernel=poly; total time=   1.9s\n",
      "[CV] END .............C=50, coef0=1, gamma=0.005, kernel=rbf; total time=   2.6s\n",
      "[CV] END .............C=50, coef0=1, gamma=0.005, kernel=rbf; total time=   2.6s\n",
      "[CV] END .............C=50, coef0=1, gamma=0.005, kernel=rbf; total time=   2.7s\n",
      "[CV] END .............C=50, coef0=1, gamma=0.005, kernel=rbf; total time=   2.6s\n",
      "[CV] END .............C=50, coef0=1, gamma=0.005, kernel=rbf; total time=   2.6s\n",
      "[CV] END ............C=50, coef0=1, gamma=0.005, kernel=poly; total time=   2.9s\n",
      "[CV] END ............C=50, coef0=1, gamma=0.005, kernel=poly; total time=   3.2s\n",
      "[CV] END ............C=50, coef0=1, gamma=0.005, kernel=poly; total time=   3.0s\n",
      "[CV] END ............C=50, coef0=1, gamma=0.005, kernel=poly; total time=   2.8s\n",
      "[CV] END ............C=50, coef0=1, gamma=0.005, kernel=poly; total time=   2.9s\n",
      "[CV] END ..............C=100, coef0=0, gamma=0.1, kernel=rbf; total time=   2.3s\n",
      "[CV] END ..............C=100, coef0=0, gamma=0.1, kernel=rbf; total time=   2.2s\n",
      "[CV] END ..............C=100, coef0=0, gamma=0.1, kernel=rbf; total time=   2.2s\n",
      "[CV] END ..............C=100, coef0=0, gamma=0.1, kernel=rbf; total time=   2.2s\n",
      "[CV] END ..............C=100, coef0=0, gamma=0.1, kernel=rbf; total time=   2.2s\n",
      "[CV] END .............C=100, coef0=0, gamma=0.1, kernel=poly; total time=   1.8s\n",
      "[CV] END .............C=100, coef0=0, gamma=0.1, kernel=poly; total time=   1.8s\n",
      "[CV] END .............C=100, coef0=0, gamma=0.1, kernel=poly; total time=   2.0s\n",
      "[CV] END .............C=100, coef0=0, gamma=0.1, kernel=poly; total time=   1.8s\n",
      "[CV] END .............C=100, coef0=0, gamma=0.1, kernel=poly; total time=   1.6s\n",
      "[CV] END .............C=100, coef0=0, gamma=0.05, kernel=rbf; total time=   2.2s\n"
     ]
    },
    {
     "name": "stdout",
     "output_type": "stream",
     "text": [
      "[CV] END .............C=100, coef0=0, gamma=0.05, kernel=rbf; total time=   2.3s\n",
      "[CV] END .............C=100, coef0=0, gamma=0.05, kernel=rbf; total time=   2.3s\n",
      "[CV] END .............C=100, coef0=0, gamma=0.05, kernel=rbf; total time=   2.1s\n",
      "[CV] END .............C=100, coef0=0, gamma=0.05, kernel=rbf; total time=   2.2s\n",
      "[CV] END ............C=100, coef0=0, gamma=0.05, kernel=poly; total time=   1.8s\n",
      "[CV] END ............C=100, coef0=0, gamma=0.05, kernel=poly; total time=   1.7s\n",
      "[CV] END ............C=100, coef0=0, gamma=0.05, kernel=poly; total time=   2.0s\n",
      "[CV] END ............C=100, coef0=0, gamma=0.05, kernel=poly; total time=   2.2s\n",
      "[CV] END ............C=100, coef0=0, gamma=0.05, kernel=poly; total time=   1.7s\n",
      "[CV] END .............C=100, coef0=0, gamma=0.01, kernel=rbf; total time=   2.5s\n",
      "[CV] END .............C=100, coef0=0, gamma=0.01, kernel=rbf; total time=   2.4s\n",
      "[CV] END .............C=100, coef0=0, gamma=0.01, kernel=rbf; total time=   2.4s\n",
      "[CV] END .............C=100, coef0=0, gamma=0.01, kernel=rbf; total time=   2.4s\n",
      "[CV] END .............C=100, coef0=0, gamma=0.01, kernel=rbf; total time=   2.4s\n",
      "[CV] END ............C=100, coef0=0, gamma=0.01, kernel=poly; total time=   1.7s\n",
      "[CV] END ............C=100, coef0=0, gamma=0.01, kernel=poly; total time=   1.7s\n",
      "[CV] END ............C=100, coef0=0, gamma=0.01, kernel=poly; total time=   1.6s\n",
      "[CV] END ............C=100, coef0=0, gamma=0.01, kernel=poly; total time=   1.3s\n",
      "[CV] END ............C=100, coef0=0, gamma=0.01, kernel=poly; total time=   1.7s\n",
      "[CV] END ............C=100, coef0=0, gamma=0.001, kernel=rbf; total time=   2.2s\n",
      "[CV] END ............C=100, coef0=0, gamma=0.001, kernel=rbf; total time=   2.5s\n",
      "[CV] END ............C=100, coef0=0, gamma=0.001, kernel=rbf; total time=   2.2s\n",
      "[CV] END ............C=100, coef0=0, gamma=0.001, kernel=rbf; total time=   2.2s\n",
      "[CV] END ............C=100, coef0=0, gamma=0.001, kernel=rbf; total time=   2.2s\n",
      "[CV] END ...........C=100, coef0=0, gamma=0.001, kernel=poly; total time=   1.4s\n",
      "[CV] END ...........C=100, coef0=0, gamma=0.001, kernel=poly; total time=   1.4s\n",
      "[CV] END ...........C=100, coef0=0, gamma=0.001, kernel=poly; total time=   1.4s\n",
      "[CV] END ...........C=100, coef0=0, gamma=0.001, kernel=poly; total time=   1.4s\n",
      "[CV] END ...........C=100, coef0=0, gamma=0.001, kernel=poly; total time=   1.4s\n",
      "[CV] END ............C=100, coef0=0, gamma=0.002, kernel=rbf; total time=   2.7s\n",
      "[CV] END ............C=100, coef0=0, gamma=0.002, kernel=rbf; total time=   2.6s\n",
      "[CV] END ............C=100, coef0=0, gamma=0.002, kernel=rbf; total time=   2.7s\n",
      "[CV] END ............C=100, coef0=0, gamma=0.002, kernel=rbf; total time=   2.5s\n",
      "[CV] END ............C=100, coef0=0, gamma=0.002, kernel=rbf; total time=   2.6s\n",
      "[CV] END ...........C=100, coef0=0, gamma=0.002, kernel=poly; total time=   1.4s\n",
      "[CV] END ...........C=100, coef0=0, gamma=0.002, kernel=poly; total time=   1.4s\n",
      "[CV] END ...........C=100, coef0=0, gamma=0.002, kernel=poly; total time=   1.4s\n",
      "[CV] END ...........C=100, coef0=0, gamma=0.002, kernel=poly; total time=   1.5s\n",
      "[CV] END ...........C=100, coef0=0, gamma=0.002, kernel=poly; total time=   1.5s\n",
      "[CV] END ............C=100, coef0=0, gamma=0.005, kernel=rbf; total time=   3.2s\n",
      "[CV] END ............C=100, coef0=0, gamma=0.005, kernel=rbf; total time=   3.2s\n",
      "[CV] END ............C=100, coef0=0, gamma=0.005, kernel=rbf; total time=   3.2s\n",
      "[CV] END ............C=100, coef0=0, gamma=0.005, kernel=rbf; total time=   3.1s\n",
      "[CV] END ............C=100, coef0=0, gamma=0.005, kernel=rbf; total time=   3.1s\n",
      "[CV] END ...........C=100, coef0=0, gamma=0.005, kernel=poly; total time=   1.4s\n",
      "[CV] END ...........C=100, coef0=0, gamma=0.005, kernel=poly; total time=   1.3s\n",
      "[CV] END ...........C=100, coef0=0, gamma=0.005, kernel=poly; total time=   1.3s\n",
      "[CV] END ...........C=100, coef0=0, gamma=0.005, kernel=poly; total time=   1.3s\n",
      "[CV] END ...........C=100, coef0=0, gamma=0.005, kernel=poly; total time=   1.3s\n",
      "[CV] END ..............C=100, coef0=1, gamma=0.1, kernel=rbf; total time=   2.2s\n",
      "[CV] END ..............C=100, coef0=1, gamma=0.1, kernel=rbf; total time=   2.2s\n",
      "[CV] END ..............C=100, coef0=1, gamma=0.1, kernel=rbf; total time=   2.2s\n",
      "[CV] END ..............C=100, coef0=1, gamma=0.1, kernel=rbf; total time=   2.2s\n",
      "[CV] END ..............C=100, coef0=1, gamma=0.1, kernel=rbf; total time=   2.3s\n",
      "[CV] END .............C=100, coef0=1, gamma=0.1, kernel=poly; total time=   1.2s\n",
      "[CV] END .............C=100, coef0=1, gamma=0.1, kernel=poly; total time=   1.3s\n",
      "[CV] END .............C=100, coef0=1, gamma=0.1, kernel=poly; total time=   1.3s\n",
      "[CV] END .............C=100, coef0=1, gamma=0.1, kernel=poly; total time=   1.6s\n",
      "[CV] END .............C=100, coef0=1, gamma=0.1, kernel=poly; total time=   1.4s\n",
      "[CV] END .............C=100, coef0=1, gamma=0.05, kernel=rbf; total time=   2.2s\n",
      "[CV] END .............C=100, coef0=1, gamma=0.05, kernel=rbf; total time=   2.2s\n",
      "[CV] END .............C=100, coef0=1, gamma=0.05, kernel=rbf; total time=   2.2s\n",
      "[CV] END .............C=100, coef0=1, gamma=0.05, kernel=rbf; total time=   2.2s\n",
      "[CV] END .............C=100, coef0=1, gamma=0.05, kernel=rbf; total time=   2.2s\n",
      "[CV] END ............C=100, coef0=1, gamma=0.05, kernel=poly; total time=   1.2s\n",
      "[CV] END ............C=100, coef0=1, gamma=0.05, kernel=poly; total time=   1.1s\n",
      "[CV] END ............C=100, coef0=1, gamma=0.05, kernel=poly; total time=   1.1s\n",
      "[CV] END ............C=100, coef0=1, gamma=0.05, kernel=poly; total time=   1.1s\n",
      "[CV] END ............C=100, coef0=1, gamma=0.05, kernel=poly; total time=   1.1s\n",
      "[CV] END .............C=100, coef0=1, gamma=0.01, kernel=rbf; total time=   2.5s\n",
      "[CV] END .............C=100, coef0=1, gamma=0.01, kernel=rbf; total time=   2.4s\n",
      "[CV] END .............C=100, coef0=1, gamma=0.01, kernel=rbf; total time=   2.4s\n",
      "[CV] END .............C=100, coef0=1, gamma=0.01, kernel=rbf; total time=   2.4s\n",
      "[CV] END .............C=100, coef0=1, gamma=0.01, kernel=rbf; total time=   2.4s\n",
      "[CV] END ............C=100, coef0=1, gamma=0.01, kernel=poly; total time=   3.1s\n",
      "[CV] END ............C=100, coef0=1, gamma=0.01, kernel=poly; total time=   3.1s\n",
      "[CV] END ............C=100, coef0=1, gamma=0.01, kernel=poly; total time=   2.9s\n",
      "[CV] END ............C=100, coef0=1, gamma=0.01, kernel=poly; total time=   2.7s\n",
      "[CV] END ............C=100, coef0=1, gamma=0.01, kernel=poly; total time=   2.8s\n",
      "[CV] END ............C=100, coef0=1, gamma=0.001, kernel=rbf; total time=   2.2s\n",
      "[CV] END ............C=100, coef0=1, gamma=0.001, kernel=rbf; total time=   2.3s\n",
      "[CV] END ............C=100, coef0=1, gamma=0.001, kernel=rbf; total time=   2.2s\n",
      "[CV] END ............C=100, coef0=1, gamma=0.001, kernel=rbf; total time=   2.2s\n",
      "[CV] END ............C=100, coef0=1, gamma=0.001, kernel=rbf; total time=   2.2s\n",
      "[CV] END ...........C=100, coef0=1, gamma=0.001, kernel=poly; total time=   2.0s\n",
      "[CV] END ...........C=100, coef0=1, gamma=0.001, kernel=poly; total time=   2.0s\n",
      "[CV] END ...........C=100, coef0=1, gamma=0.001, kernel=poly; total time=   1.9s\n",
      "[CV] END ...........C=100, coef0=1, gamma=0.001, kernel=poly; total time=   1.9s\n",
      "[CV] END ...........C=100, coef0=1, gamma=0.001, kernel=poly; total time=   1.9s\n",
      "[CV] END ............C=100, coef0=1, gamma=0.002, kernel=rbf; total time=   2.7s\n",
      "[CV] END ............C=100, coef0=1, gamma=0.002, kernel=rbf; total time=   2.7s\n",
      "[CV] END ............C=100, coef0=1, gamma=0.002, kernel=rbf; total time=   2.9s\n",
      "[CV] END ............C=100, coef0=1, gamma=0.002, kernel=rbf; total time=   2.6s\n",
      "[CV] END ............C=100, coef0=1, gamma=0.002, kernel=rbf; total time=   2.6s\n",
      "[CV] END ...........C=100, coef0=1, gamma=0.002, kernel=poly; total time=   2.8s\n",
      "[CV] END ...........C=100, coef0=1, gamma=0.002, kernel=poly; total time=   2.8s\n",
      "[CV] END ...........C=100, coef0=1, gamma=0.002, kernel=poly; total time=   2.9s\n",
      "[CV] END ...........C=100, coef0=1, gamma=0.002, kernel=poly; total time=   2.7s\n",
      "[CV] END ...........C=100, coef0=1, gamma=0.002, kernel=poly; total time=   2.7s\n",
      "[CV] END ............C=100, coef0=1, gamma=0.005, kernel=rbf; total time=   3.2s\n",
      "[CV] END ............C=100, coef0=1, gamma=0.005, kernel=rbf; total time=   3.2s\n",
      "[CV] END ............C=100, coef0=1, gamma=0.005, kernel=rbf; total time=   3.2s\n"
     ]
    },
    {
     "name": "stdout",
     "output_type": "stream",
     "text": [
      "[CV] END ............C=100, coef0=1, gamma=0.005, kernel=rbf; total time=   3.1s\n",
      "[CV] END ............C=100, coef0=1, gamma=0.005, kernel=rbf; total time=   3.3s\n",
      "[CV] END ...........C=100, coef0=1, gamma=0.005, kernel=poly; total time=   4.2s\n",
      "[CV] END ...........C=100, coef0=1, gamma=0.005, kernel=poly; total time=   4.1s\n",
      "[CV] END ...........C=100, coef0=1, gamma=0.005, kernel=poly; total time=   4.0s\n",
      "[CV] END ...........C=100, coef0=1, gamma=0.005, kernel=poly; total time=   3.9s\n",
      "[CV] END ...........C=100, coef0=1, gamma=0.005, kernel=poly; total time=   4.1s\n"
     ]
    },
    {
     "data": {
      "text/plain": [
       "GridSearchCV(cv=5, estimator=SVC(),\n",
       "             param_grid={'C': [1, 10, 20, 30, 50, 100], 'coef0': [0, 1],\n",
       "                         'gamma': [0.1, 0.05, 0.01, 0.001, 0.002, 0.005],\n",
       "                         'kernel': ['rbf', 'poly']},\n",
       "             scoring='accuracy', verbose=2)"
      ]
     },
     "execution_count": 86,
     "metadata": {},
     "output_type": "execute_result"
    }
   ],
   "source": [
    "model_grid.fit(X,y)"
   ]
  },
  {
   "cell_type": "code",
   "execution_count": 87,
   "metadata": {},
   "outputs": [
    {
     "data": {
      "text/plain": [
       "{'C': 1, 'coef0': 0, 'gamma': 0.05, 'kernel': 'rbf'}"
      ]
     },
     "execution_count": 87,
     "metadata": {},
     "output_type": "execute_result"
    }
   ],
   "source": [
    "model_grid.best_params_"
   ]
  },
  {
   "cell_type": "code",
   "execution_count": 88,
   "metadata": {},
   "outputs": [
    {
     "data": {
      "text/plain": [
       "0.7802978662082046"
      ]
     },
     "execution_count": 88,
     "metadata": {},
     "output_type": "execute_result"
    }
   ],
   "source": [
    "model_grid.best_score_"
   ]
  },
  {
   "cell_type": "code",
   "execution_count": 92,
   "metadata": {},
   "outputs": [],
   "source": [
    "#With best parameters build ML model\n",
    "model_best = SVC(C=30,kernel='rbf',gamma=0.002,probability=True)"
   ]
  },
  {
   "cell_type": "code",
   "execution_count": 93,
   "metadata": {},
   "outputs": [
    {
     "data": {
      "text/plain": [
       "0.8096980786825252"
      ]
     },
     "execution_count": 93,
     "metadata": {},
     "output_type": "execute_result"
    }
   ],
   "source": [
    "model_best.fit(x_train,y_train)\n",
    "model_best.score(x_test,y_test)"
   ]
  },
  {
   "cell_type": "code",
   "execution_count": 94,
   "metadata": {},
   "outputs": [],
   "source": [
    "y_pred = model_best.predict(x_test)\n",
    "y_prob = model_best.predict_proba(x_test) # proability"
   ]
  },
  {
   "cell_type": "code",
   "execution_count": 95,
   "metadata": {},
   "outputs": [
    {
     "data": {
      "image/png": "[encoded data removed]",
      "text/plain": [
       "<Figure size 432x288 with 1 Axes>"
      ]
     },
     "metadata": {
      "needs_background": "light"
     },
     "output_type": "display_data"
    }
   ],
   "source": [
    "cm = metrics.confusion_matrix(y_test,y_pred)\n",
    "cm = np.concatenate((cm,cm.sum(axis=0).reshape(1,-1)),axis=0)\n",
    "cm = np.concatenate((cm,cm.sum(axis=1).reshape(-1,1)),axis=1)\n",
    "plt.imshow(cm)\n",
    "for i in range(3):\n",
    "    for j in range(3):\n",
    "        plt.text(j,i,'%d'%cm[i,j])\n",
    "        \n",
    "plt.xticks([0,1])\n",
    "plt.yticks([0,1])\n",
    "plt.xlabel('Predicted Values')\n",
    "plt.ylabel('True Values')\n",
    "plt.show()"
   ]
  },
  {
   "cell_type": "code",
   "execution_count": 96,
   "metadata": {},
   "outputs": [
    {
     "data": {
      "text/html": [
       "<div>\n",
       "<style scoped>\n",
       "    .dataframe tbody tr th:only-of-type {\n",
       "        vertical-align: middle;\n",
       "    }\n",
       "\n",
       "    .dataframe tbody tr th {\n",
       "        vertical-align: top;\n",
       "    }\n",
       "\n",
       "    .dataframe thead th {\n",
       "        text-align: right;\n",
       "    }\n",
       "</style>\n",
       "<table border=\"1\" class=\"dataframe\">\n",
       "  <thead>\n",
       "    <tr style=\"text-align: right;\">\n",
       "      <th></th>\n",
       "      <th>precision</th>\n",
       "      <th>recall</th>\n",
       "      <th>f1-score</th>\n",
       "      <th>support</th>\n",
       "    </tr>\n",
       "  </thead>\n",
       "  <tbody>\n",
       "    <tr>\n",
       "      <th>male</th>\n",
       "      <td>0.794937</td>\n",
       "      <td>0.712018</td>\n",
       "      <td>0.751196</td>\n",
       "      <td>441.000000</td>\n",
       "    </tr>\n",
       "    <tr>\n",
       "      <th>female</th>\n",
       "      <td>0.818052</td>\n",
       "      <td>0.875767</td>\n",
       "      <td>0.845926</td>\n",
       "      <td>652.000000</td>\n",
       "    </tr>\n",
       "    <tr>\n",
       "      <th>accuracy</th>\n",
       "      <td>0.809698</td>\n",
       "      <td>0.809698</td>\n",
       "      <td>0.809698</td>\n",
       "      <td>0.809698</td>\n",
       "    </tr>\n",
       "    <tr>\n",
       "      <th>macro avg</th>\n",
       "      <td>0.806494</td>\n",
       "      <td>0.793893</td>\n",
       "      <td>0.798561</td>\n",
       "      <td>1093.000000</td>\n",
       "    </tr>\n",
       "    <tr>\n",
       "      <th>weighted avg</th>\n",
       "      <td>0.808725</td>\n",
       "      <td>0.809698</td>\n",
       "      <td>0.807705</td>\n",
       "      <td>1093.000000</td>\n",
       "    </tr>\n",
       "  </tbody>\n",
       "</table>\n",
       "</div>"
      ],
      "text/plain": [
       "              precision    recall  f1-score      support\n",
       "male           0.794937  0.712018  0.751196   441.000000\n",
       "female         0.818052  0.875767  0.845926   652.000000\n",
       "accuracy       0.809698  0.809698  0.809698     0.809698\n",
       "macro avg      0.806494  0.793893  0.798561  1093.000000\n",
       "weighted avg   0.808725  0.809698  0.807705  1093.000000"
      ]
     },
     "execution_count": 96,
     "metadata": {},
     "output_type": "execute_result"
    }
   ],
   "source": [
    "# classification report\n",
    "cr = metrics.classification_report(y_test,y_pred,target_names=['male','female'],output_dict=True)\n",
    "pd.DataFrame(cr).T"
   ]
  },
  {
   "cell_type": "code",
   "execution_count": 97,
   "metadata": {},
   "outputs": [
    {
     "data": {
      "text/plain": [
       "0.5978760360691809"
      ]
     },
     "execution_count": 97,
     "metadata": {},
     "output_type": "execute_result"
    }
   ],
   "source": [
    "# kappa\n",
    "metrics.cohen_kappa_score(y_test,y_pred)"
   ]
  },
  {
   "cell_type": "markdown",
   "metadata": {},
   "source": [
    "### ROC and AUC"
   ]
  },
  {
   "cell_type": "code",
   "execution_count": 98,
   "metadata": {},
   "outputs": [
    {
     "data": {
      "image/png": "[encoded data removed]",
      "text/plain": [
       "<Figure size 720x432 with 1 Axes>"
      ]
     },
     "metadata": {
      "needs_background": "light"
     },
     "output_type": "display_data"
    }
   ],
   "source": [
    "# roc for female\n",
    "fpr,tpr,thresh = metrics.roc_curve(y_test,y_prob[:,1])\n",
    "auc_s = metrics.auc(fpr,tpr)\n",
    "plt.figure(figsize=(10,6))\n",
    "plt.plot(fpr,tpr,'-.')\n",
    "plt.plot([0,1],[0,1],'b--')\n",
    "for i in range(0,len(thresh),20):\n",
    "    plt.plot(fpr[i],tpr[i],'^')\n",
    "    plt.text(fpr[i],tpr[i],\"%0.2f\"%thresh[i])\n",
    "    \n",
    "plt.legend(['AUC Score = %0.2f'%auc_s])\n",
    "\n",
    "plt.xlabel('False Positve Rate')\n",
    "plt.ylabel('True Positive Rate')\n",
    "plt.title('Receiver Operating Characterstics')\n",
    "plt.show()"
   ]
  },
  {
   "cell_type": "code",
   "execution_count": 99,
   "metadata": {},
   "outputs": [],
   "source": [
    "# save our machine learning model\n",
    "import pickle"
   ]
  },
  {
   "cell_type": "code",
   "execution_count": 100,
   "metadata": {},
   "outputs": [],
   "source": [
    "pickle.dump(model_best,open('model_svm.pickle','wb'))"
   ]
  },
  {
   "cell_type": "code",
   "execution_count": 104,
   "metadata": {},
   "outputs": [],
   "source": [
    "pickle.dump(mean,open('/Users/91830/FaceRecognition/data/Model/mean_preprocess.pickle','wb'))"
   ]
  },
  {
   "cell_type": "code",
   "execution_count": null,
   "metadata": {},
   "outputs": [],
   "source": []
  }
 ],
 "metadata": {
  "kernelspec": {
   "display_name": "Python 3",
   "language": "python",
   "name": "python3"
  },
  "language_info": {
   "codemirror_mode": {
    "name": "ipython",
    "version": 3
   },
   "file_extension": ".py",
   "mimetype": "text/x-python",
   "name": "python",
   "nbconvert_exporter": "python",
   "pygments_lexer": "ipython3",
   "version": "3.8.5"
  },
  "toc": {
   "base_numbering": 1,
   "nav_menu": {},
   "number_sections": true,
   "sideBar": true,
   "skip_h1_title": false,
   "title_cell": "Table of Contents",
   "title_sidebar": "Contents",
   "toc_cell": false,
   "toc_position": {},
   "toc_section_display": true,
   "toc_window_display": false
  },
  "varInspector": {
   "cols": {
    "lenName": 16,
    "lenType": 16,
    "lenVar": 40
   },
   "kernels_config": {
    "python": {
     "delete_cmd_postfix": "",
     "delete_cmd_prefix": "del ",
     "library": "var_list.py",
     "varRefreshCmd": "print(var_dic_list())"
    },
    "r": {
     "delete_cmd_postfix": ") ",
     "delete_cmd_prefix": "rm(",
     "library": "var_list.r",
     "varRefreshCmd": "cat(var_dic_list()) "
    }
   },
   "types_to_exclude": [
    "module",
    "function",
    "builtin_function_or_method",
    "instance",
    "_Feature"
   ],
   "window_display": false
  }
 },
 "nbformat": 4,
 "nbformat_minor": 4
}
